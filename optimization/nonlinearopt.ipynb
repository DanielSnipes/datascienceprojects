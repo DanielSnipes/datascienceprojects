{
 "cells": [
  {
   "cell_type": "markdown",
   "metadata": {},
   "source": [
    "# Non-linear optimization in Python\n",
    "\n",
    "** *\n",
    "*Note: if you are visualizing this notebook directly from GitHub, some mathematical symbols might display incorrectly or not display at all. This same notebook can be rendered from nbviewer by following [this link.](http://nbviewer.jupyter.org/github/david-cortes/datascienceprojects/blob/master/optimization/nonlinearopt.ipynb)*\n",
    "\n",
    "This IPython notebook tries to showcase the usage of different optimization libraries, by finding the optimal solution of a real-valued toy function, subject to non-linear equality and inequality constraints of the variables, using different solver interfaces available for Python.\n",
    "\n",
    "The function to minimize and the constraints are non-linear, thus the most typical algorithms such as simplex or gradient descent are not applicable.\n",
    "\n",
    "\n",
    "Some of the algorithms shown here are based on jacobians and/or hessians (matrices of first and second derivatives of the function to be minimize and its non-linear constraints), which help speed up things especially in large problems (in terms of having many variables, constraints, or functions over data points), but most of the methods are an overkill for this simple example.\n",
    "\n",
    "The choice of method and information passed to solver can, however, make a big impact on speed in bigger problems (such as calculating the parameters of some predictive model for a large dataset).\n",
    "\n",
    "\n",
    "The file, unlike all the other in this page, was produced using Python 2.\n",
    "** *\n",
    "## Examples\n",
    "\n",
    "[1. Derivative-free solver with NLopt](#p1)\n",
    "\n",
    "[2. Gradient-based solver with SciPy](#p2)\n",
    "* [Obtaining the derivatives](#p21)\n",
    "* [Invoking the solver](#p22)\n",
    "\n",
    "[3. KKT-based solver with CVXOPT](#p3)\n",
    "* [Obtaining the jacobian and hessian](#p31)\n",
    "* [Invoking the solver](#p32)\n",
    "\n",
    "[4. Interior-point solver with Ipopt](#p4)\n",
    "* [Ipopt through pyipopt](#p41)\n",
    "    * [Obtaining the gradient, jacobian and hessian](#p411)\n",
    "    * [Invoking the solver](#p412)\n",
    "* [Ipopt through CasADi](#p42)\n",
    "\n",
    "[5. Alternative interior-point method wtih NLopt](#p5)\n",
    "\n",
    "[6. Benchmarking algorithms - solving a bigger problem](#p6)\n",
    "* [Graphical comparison of solvability and time it took](#p61)\n",
    "\n",
    "** *\n",
    "\n",
    "## Mathematical formulation\n",
    "** *\n",
    "The goal is to solve the following mathematical problem:\n",
    "\n",
    "$$ {min \\:  x_1  x_4 ( x_1 + x_2 + x_3) + x_3} $$\n",
    "\n",
    "$$ {s.t. \\:}$$\n",
    "$$ {x_1 x_2 x_3 x_4 \\ge 25} $$\n",
    "\n",
    "$$ {x_1^2 + x_2^2 + x_3^2 + x_4^2 = 40}  $$\n",
    "\n",
    "$$ {1 \\le x_1, x_2, x_3, x_4 \\le 5} $$\n",
    "\n",
    "(i.e. to find the values of $x_1, x_2, x_3$, and $x_4$ that minimize the function while respecting the constraints)\n",
    "\n",
    "the suggested starting point for algorithms is $ x_1=1, x_2=5, x_3=5, x_4=1 $\n",
    "\n",
    "This corresponds to problem 71 of the [Hock-Schittkowsky test suite](http://apmonitor.com/wiki/index.php/Apps/HockSchittkowski), available [here](http://apmonitor.com/wiki/uploads/Apps/hs071.apm).\n",
    "** *\n",
    "Note that while the function is non-convex over $\\mathbb{R}^4$, all the variables are bounded to be between 1 and 5, and in that domain the function is convex and thus can be approached with a variety of methods."
   ]
  },
  {
   "cell_type": "code",
   "execution_count": 1,
   "metadata": {
    "collapsed": false
   },
   "outputs": [
    {
     "data": {
      "text/plain": [
       "False"
      ]
     },
     "execution_count": 1,
     "metadata": {},
     "output_type": "execute_result"
    }
   ],
   "source": [
    "# Proving that the function is not convex over R^4\n",
    "\n",
    "# a function is convex if, for any number a in [0,1], it satisfies this:\n",
    "# f(a*x1 + (1-a)*x2) <= a*f(x1) + (1-a)*f(x2)\n",
    "\n",
    "import numpy as np\n",
    "\n",
    "f=lambda x: x[0]*x[3]*(x[0]+x[1]+x[2])+x[2]\n",
    "a=np.float(0.2)\n",
    "x1=np.array([1,-100,2,3],dtype='float64')\n",
    "x2=np.array([-1,100,2,3],dtype='float64')\n",
    "f(a*x1 + (1-a)*x2) <= a*f(x1) + (1-a)*f(x2)"
   ]
  },
  {
   "cell_type": "markdown",
   "metadata": {},
   "source": [
    "<a id='p1'></a>\n",
    "## 1. Derivative-free solver (library NLopt)\n",
    "** *\n",
    "This problem can be easily solved by the algorithm COBYLA (Constrained Optimization BY Linear Approximations), available in the [NLopt library](http://ab-initio.mit.edu/wiki/index.php/NLopt) (among others), which comes with an interface to Python. This library can be easily installed from [conda-forge](https://anaconda.org/conda-forge/nlopt) (if using the Anaconda distribution for Python).\n",
    "\n",
    "The library includes both derivative-based and derivate-free methods, and all of its algorithms require the functions and constraints to be passed as evaluable functions with two arguments: the variables and the gradient (not used here, and passed to me modified in-place in the function when used), even when the gradients are not used.\n",
    "\n",
    "It can throw errors depending on the type of numbers used and outputted by functions (e.g. integers vs. floating point numbers) and the tolerances used for the objective and constraints, so oftentimes it helps to set these to values other than default. This library, as most Python-based solvers, uses NumPy's data structures.\n"
   ]
  },
  {
   "cell_type": "code",
   "execution_count": 2,
   "metadata": {
    "collapsed": false
   },
   "outputs": [
    {
     "name": "stdout",
     "output_type": "stream",
     "text": [
      "Optimal x: [ 1.          4.74299965  3.82114997  1.3794083 ]\n",
      "Objective value: 17.0140172892\n",
      "Result code: 4\n"
     ]
    }
   ],
   "source": [
    "import nlopt, numpy as np\n",
    "\n",
    "############  defining the problem  ##########\n",
    "\n",
    "# function to minimize\n",
    "f0=lambda x,grad: np.float(x[0]*x[3]*(x[0]+x[1]+x[2])+x[2])\n",
    "\n",
    "# greater-or-equal inequality constraint\n",
    "## NLopt requires inequalities to be expressed as f(x)-c<=0, thus this one first has to be flipped\n",
    "f1=lambda x,grad: np.float(25.0-x[0]*x[1]*x[2]*x[3])\n",
    "\n",
    "# euqality constraint\n",
    "f2=lambda x,grad: np.float(x[0]**2 + x[1]**2 + x[2]**2 + x[3]**2 - 40.0)\n",
    "\n",
    "# upper and lower bounds for the variables\n",
    "lb=np.array([1]*4, dtype='float64')\n",
    "ub=np.array([5]*4, dtype='float64')\n",
    "\n",
    "# suggested starting point\n",
    "x0=np.array([1,5,5,1], dtype='float64')\n",
    "\n",
    "\n",
    "############  passing it to the solver  ##########\n",
    "\n",
    "# initializing the optimization problem with 4 variables\n",
    "opt = nlopt.opt(nlopt.LN_COBYLA,4)\n",
    "\n",
    "# setting the function to minimize\n",
    "opt.set_min_objective(f0)\n",
    "\n",
    "# adding the constraints\n",
    "opt.add_inequality_constraint(f1)\n",
    "opt.add_equality_constraint(f2)\n",
    "\n",
    "# setting the bounds for the variables\n",
    "opt.set_lower_bounds(lb)\n",
    "opt.set_upper_bounds(ub)\n",
    "\n",
    "# setting the numerical tolerance for the objective\n",
    "opt.set_xtol_rel(1e-10)\n",
    "\n",
    "# running the solver\n",
    "x = opt.optimize(x0)\n",
    "minf = opt.last_optimum_value()\n",
    "print \"Optimal x:\", x\n",
    "print \"Objective value:\", minf\n",
    "print \"Result code:\", opt.last_optimize_result()"
   ]
  },
  {
   "cell_type": "markdown",
   "metadata": {},
   "source": [
    "<a id='p2'></a>\n",
    "## 2. Gradient-based solver (library SciPy)\n",
    "** *\n",
    "The problem, being a smooth, differentiable function, can be solved more easily when using the partial derivatives of the function and its non-linear constraints with respect to the variables to minimize (also known as gradient or jacobian), using algorithms such as ‘Sequential Least-Squares Programming’ (SLSQP), available in many libraries such as in SciPy's optimization module. A different implementation of the same algorithm is also available in many other libraries, such as the NLopt library used above.\n",
    "\n",
    "\n",
    "The SciPy library comes installed by default with Python’s Anaconda distribution for scientific computing."
   ]
  },
  {
   "cell_type": "markdown",
   "metadata": {},
   "source": [
    "<a id='p21'></a>\n",
    "### Obtaining the derivatives\n",
    "\n",
    "The indefinite derivatives of the function and its constraints can be obtained manually or calculated with symbolic mathematics modules, such as Python’s SymPy (also installed by default in the Anaconda distribution), as shown here:"
   ]
  },
  {
   "cell_type": "code",
   "execution_count": 3,
   "metadata": {
    "collapsed": false
   },
   "outputs": [
    {
     "name": "stdout",
     "output_type": "stream",
     "text": [
      "[x[0]*x[3] + x[3]*(x[0] + x[1] + x[2]), x[0]*x[3], x[0]*x[3] + 1, x[0]*(x[0] + x[1] + x[2])]\n"
     ]
    }
   ],
   "source": [
    "from sympy import symbols, diff\n",
    "\n",
    "# This time, the functions variables will be defined as symbolic math\n",
    "x=symbols('x[0] x[1] x[2] x[3]')\n",
    "\n",
    "# function to minimize\n",
    "f0=x[0]*x[3]*(x[0]+x[1]+x[2])+x[2]\n",
    "\n",
    "# constraints\n",
    "f1=x[0]*x[1]*x[2]*x[3]\n",
    "f2=x[0]**2 + x[1]**2 + x[2]**2 + x[3]**2\n",
    "\n",
    "# derivatives of the function and the constraints\n",
    "d_f0_symbols=[diff(f0,x[var]) for var in range(len(x))]\n",
    "d_f1_symbols=[diff(f1,x[var]) for var in range(len(x))]\n",
    "d_f2_symbols=[diff(f2,x[var]) for var in range(len(x))]\n",
    "\n",
    "# checking some of these derivatives\n",
    "print(d_f0_symbols)"
   ]
  },
  {
   "cell_type": "markdown",
   "metadata": {},
   "source": [
    "These SymPy symbolic functions can be converted to evaluable functions using lambdify or passing them as a string to python's eval function:"
   ]
  },
  {
   "cell_type": "code",
   "execution_count": 4,
   "metadata": {
    "collapsed": false
   },
   "outputs": [
    {
     "name": "stdout",
     "output_type": "stream",
     "text": [
      "First derivative w.r.t. x1: x[0]*x[3] + x[3]*(x[0] + x[1] + x[2])\n",
      "\n",
      "Evaluating first derivative at point (1, 5, 5, 1)\n",
      "Hard-coded function: 12\n",
      "Evaluate string from sympy: 12\n",
      "Sympy's lambdify: 12\n",
      "\n",
      "Evaluating first derivative at point (1, 2, 3, 4)\n",
      "Hard-coded function: 28\n",
      "Evaluate string from sympy: 28\n",
      "Sympy's lambdify: 28\n",
      "\n",
      "Evaluating first derivative at point (10, 10, 10, 10)\n",
      "Hard-coded function: 400\n",
      "Evaluate string from sympy: 400\n",
      "Sympy's lambdify: 400\n",
      "\n"
     ]
    }
   ],
   "source": [
    "from sympy.utilities.lambdify import lambdify\n",
    "\n",
    "d_example=lambda x: x[0]*x[3] + x[3]*(x[0] + x[1] + x[2])\n",
    "d_example1=lambda x: eval(str(d_f0_symbols[0]))\n",
    "d_example2=lambdify(x, d_f0_symbols[0])\n",
    "\n",
    "# some points to try\n",
    "sample_points=[(1,5,5,1),(1,2,3,4),(10,10,10,10)]\n",
    "\n",
    "print \"First derivative w.r.t. x1:\",str(d_f0_symbols[0])\n",
    "print \n",
    "for p in sample_points:\n",
    "    print \"Evaluating first derivative at point\",p\n",
    "    print \"Hard-coded function:\",d_example(p)\n",
    "    print \"Evaluate string from sympy:\",d_example1(p)\n",
    "    print \"Sympy's lambdify:\",d_example2(*p)\n",
    "    print"
   ]
  },
  {
   "cell_type": "markdown",
   "metadata": {},
   "source": [
    "The examples below fill use the first method (evaluating sympy outputs as strings), as, while not the most efficient, it's the most convenient to write."
   ]
  },
  {
   "cell_type": "markdown",
   "metadata": {},
   "source": [
    "<a id='p22'></a>\n",
    "### Invoking the solver"
   ]
  },
  {
   "cell_type": "code",
   "execution_count": 5,
   "metadata": {
    "collapsed": false
   },
   "outputs": [
    {
     "data": {
      "text/plain": [
       "     fun: 17.014017245572898\n",
       "     jac: array([ 14.57227022,   1.37940764,   2.37940764,   9.56415073])\n",
       " message: 'Optimization terminated successfully.'\n",
       "    nfev: 5\n",
       "     nit: 5\n",
       "    njev: 5\n",
       "  status: 0\n",
       " success: True\n",
       "       x: array([ 1.        ,  4.74299606,  3.82115467,  1.37940764])"
      ]
     },
     "execution_count": 5,
     "metadata": {},
     "output_type": "execute_result"
    }
   ],
   "source": [
    "from scipy.optimize import minimize\n",
    "import numpy as np\n",
    "\n",
    "############  defining the rest of the problem  ##########\n",
    "\n",
    "# gradient of the function\n",
    "grad=lambda x: np.array(eval(str(d_f0_symbols)))\n",
    "\n",
    "# constraints\n",
    "cons=[\n",
    "    {'type':'ineq','fun':lambda x: eval(str(f1))-25,'jac':lambda x: np.array(eval(str(d_f1_symbols)))},\n",
    "    {'type':'eq','fun':lambda x: eval(str(f2))-40,'jac':lambda x: np.array(eval(str(d_f2_symbols)))}\n",
    "]\n",
    "\n",
    "# upper and lower bounds for the variables\n",
    "lb=np.array([1]*4, dtype='float64')\n",
    "ub=np.array([5]*4, dtype='float64')\n",
    "\n",
    "# suggested starting point\n",
    "x0=np.array([1,5,5,1], dtype='float64')\n",
    "\n",
    "############  passing everything to the solver  ##########\n",
    "minimize(fun=lambda x: eval(str(f0)), jac=grad, constraints=cons, bounds=[(lb[var],ub[var]) for var in range(len(x))],\n",
    "        x0=x0, method='SLSQP')"
   ]
  },
  {
   "cell_type": "markdown",
   "metadata": {},
   "source": [
    "<a id='p3'></a>\n",
    "## 3. KKT-based solver (library CVXOPT)\n",
    "\n",
    "As the problem is convex in the interval to be solved, its minimum can be determined to be the point that satisfies the [Karush–Kuhn–Tucker conditions (KKT)](https://en.wikipedia.org/wiki/Karush–Kuhn–Tucker_conditions) for optimality, which in turn require solving some equations with its Jacobian(matrix of partial derivatives of the function and each non-linear constraint with respect to each variable) and Hessian (matrix of second-order partial derivates of the sum of the function and each constraint multiplied by a lagrange multiplier, with respect to each pair of variables)."
   ]
  },
  {
   "cell_type": "markdown",
   "metadata": {},
   "source": [
    "<a id='p31'></a>\n",
    "### Obtaining the gradient, jacobian and hessian\n",
    "\n",
    "These will be calculated using SymPy just like in the example above:"
   ]
  },
  {
   "cell_type": "code",
   "execution_count": 6,
   "metadata": {
    "collapsed": true
   },
   "outputs": [],
   "source": [
    "from sympy import symbols, diff\n",
    "\n",
    "x=symbols('x[0] x[1] x[2] x[3]')\n",
    "z=symbols('z[0] z[1] z[2] z[3]') # these will be the lagrangian multipliers\n",
    "\n",
    "f0=x[0]*x[3]*(x[0]+x[1]+x[2])+x[2]\n",
    "f1=-(x[0]*x[1]*x[2]*x[3])\n",
    "\n",
    "# note that CVXOPT doesn't non-linear equality constraints directly\n",
    "# the original contrainf f_2(x)==40 is equivalent to these two combined:\n",
    "# f_2(x)>=40 and f_3(x)<=40\n",
    "f2=x[0]**2+x[1]**2+x[2]**2+x[3]**2\n",
    "f3=-(x[0]**2+x[1]**2+x[2]**2+x[3]**2)\n",
    "g=[f0,f1,f2,f3]\n",
    "m=z[0]*f0+z[1]*f1+z[2]*f2+z[3]*f3 # this is the sum to differentiate for the hessian\n",
    "\n",
    "jac_symbols=[[diff(g[con],x[var]) for var in range(len(x))] for con in range(len(g))]\n",
    "hess_symbols=[[diff(diff(m,x[var1]),x[var2]) for var1 in range(len(x))] for var2 in range(len(x))]"
   ]
  },
  {
   "cell_type": "markdown",
   "metadata": {},
   "source": [
    "<a id='p32'></a>\n",
    "### Invoking the solver"
   ]
  },
  {
   "cell_type": "code",
   "execution_count": 7,
   "metadata": {
    "collapsed": false
   },
   "outputs": [
    {
     "data": {
      "text/plain": [
       "{'dual infeasibility': 0.07703721666218974,\n",
       " 'dual objective': 17.077745556399535,\n",
       " 'dual slack': 0.6117001389000475,\n",
       " 'gap': 0.3472762664951544,\n",
       " 'primal infeasibility': 0.08079169139753443,\n",
       " 'primal objective': 15.95031728284468,\n",
       " 'primal slack': 0.015319998875008295,\n",
       " 'relative gap': 0.020335018187750183,\n",
       " 'sl': <0x1 matrix, tc='d'>,\n",
       " 'snl': <3x1 matrix, tc='d'>,\n",
       " 'status': 'unknown',\n",
       " 'x': <4x1 matrix, tc='d'>,\n",
       " 'y': <0x1 matrix, tc='d'>,\n",
       " 'zl': <0x1 matrix, tc='d'>,\n",
       " 'znl': <3x1 matrix, tc='d'>}"
      ]
     },
     "execution_count": 7,
     "metadata": {},
     "output_type": "execute_result"
    }
   ],
   "source": [
    "from cvxopt import solvers, matrix\n",
    "import numpy as np\n",
    "\n",
    "ncons=len(g)-1\n",
    "x0=np.array([1,5,5,1],dtype='float64')\n",
    "\n",
    "# cvxopt requires defining a single function that outputs all the required evaluations\n",
    "def F(x=None,z=None): #x is the vector of variables and z are the lagrande multipliers\n",
    "    \n",
    "    # when passed with no arguemnts (i.e. F()), it should return the number of non-linear constraints and astarting point\n",
    "    if x is None: return ncons,matrix(x0)\n",
    "    \n",
    "    # when the variables are off-bounds, it should return None\n",
    "    if min(x) < 1.0: return None,None\n",
    "    if max(x) > 5.0: return None,None\n",
    "    \n",
    "    # otherwise, it needs to output the function and constraints evaluated at x\n",
    "    f=matrix(np.array([\n",
    "            eval(str(f0)),\n",
    "            25.0+eval(str(f1)),\n",
    "            eval(str(f2))-40.0,\n",
    "            40.0+eval(str(f3))\n",
    "        ],dtype='float64'))\n",
    "    \n",
    "    # and along with it, the jacobian evaluated at the same point\n",
    "    Df=matrix(np.array(eval(str(jac_symbols)),dtype='float64'))\n",
    "    if z is None: return f,Df\n",
    "    \n",
    "    # if z is provided, it also needs to output the hessian avaluated at x,z\n",
    "    H=matrix(np.array(eval(str(hess_symbols)),dtype='float64'))\n",
    "    return f,Df,H\n",
    "\n",
    "######### passing this function to the solver ##########\n",
    "# important to set tolerances, as otherwise it can get stuch\n",
    "xsol=solvers.cp(F=F, kktsolver='ldl', options={'show_progress':False,'reltol':1e-4})\n",
    "xsol"
   ]
  },
  {
   "cell_type": "code",
   "execution_count": 8,
   "metadata": {
    "collapsed": false
   },
   "outputs": [
    {
     "name": "stdout",
     "output_type": "stream",
     "text": [
      "Optimal x: [1.0, 4.808364383142631, 3.9238828088666087, 1.302127362224565]\n",
      "Objective value: 16.5965081735\n",
      "Z multipliers: [0.6117001389000475, 1.2668465747904871, 1.0880138014153908]\n"
     ]
    }
   ],
   "source": [
    "print \"Optimal x:\",[var for var in xsol['x']]\n",
    "print 'Objective value:',xsol['x'][0]*xsol['x'][3]*(xsol['x'][0]+xsol['x'][1]+xsol['x'][2])+xsol['x'][2]\n",
    "print 'Z multipliers:', [var for var in xsol['znl']]"
   ]
  },
  {
   "cell_type": "markdown",
   "metadata": {},
   "source": [
    "_Note that this solution is quite different from what the other solvers threw and is infeasible, but close to the optimum_"
   ]
  },
  {
   "cell_type": "markdown",
   "metadata": {},
   "source": [
    "<a id='p4'></a>\n",
    "## 4. Interior-point solver (library Ipopt)\n",
    "\n",
    "The problem can also be solved using interior-point methods, which are also helped by the jacobian and hessian matrices. Ipopt provides many of these, but unfortunately doesn't come with a Python interface. It is possible, however, to use third-party interfacers to it such as CasADi or pyipopt.\n",
    "** *\n",
    "<a id='p41'></a>\n",
    "### Ipopt through pyipopt (linux only)\n",
    "\n",
    "\n",
    "This library can be easily installed in 64-bit Linux systems through conda forge, first by installing [ipopt](https://anaconda.org/conda-forge/ipopt) and then [pyipopt](https://anaconda.org/imperial-college-research-computing/pyipopt) (e.g. ‘conda install -c conda-forge ipopt=3.12.7’, then ‘conda install -c imperial-college-research-computing pyipopt=0.1’). In Windows, the quickest option is to create a virtual machine under software like [VirtualBox](https://www.virtualbox.org) and run a linux environment from there).\n",
    "\n",
    "If the installation through conda forge doesn't succeed, then in order to install this manually, the process would look like this:\n",
    "\n",
    "1. Download the [source code for ipopt](http://www.coin-or.org/download/source/Ipopt)\n",
    "2. Uncompress the file, go to the folder ‘Third Party’, and within each of those subfolder (except HSL), execute the files named ‘get.package’ (e.g. go the the folger Blas and run the command ./get.Blas, repeat for the other folders)\n",
    "3. Configure the program for the local user (i.e. run ‘./configure –prefix=/usr/local’, NOT the usual ./configure’), then do ‘make’ and ‘make install’.\n",
    "4. Download and install the pyipopt module for interfacing ipopt through python, which requires downloading its [source code](https://github.com/xuy/pyipopt), uncompressing, and installing with setup tools by running the setup script with the build and install commands (i.e. first ‘python setup.py build’, then ‘python setup.py install’, second one as superuser). In 32-bit anaconda installations, it might require the installation of the libgcc library for anaconda (‘conda install libgcc’).\n",
    "\n",
    "Installing pyipopt in Python3 might require additional steps."
   ]
  },
  {
   "cell_type": "markdown",
   "metadata": {},
   "source": [
    "<a id='p411'></a>\n",
    "### Obtaining the gradient, jacobian and hessian\n",
    "\n",
    "Obtained with SymPy, just like before"
   ]
  },
  {
   "cell_type": "code",
   "execution_count": 9,
   "metadata": {
    "collapsed": false
   },
   "outputs": [],
   "source": [
    "from sympy import symbols, diff\n",
    "import numpy as np\n",
    "\n",
    "x=symbols('x[0] x[1] x[2] x[3]')\n",
    "\n",
    "# note that ipopt requires defining the hessian slightly differently from cvxopt\n",
    "# here the objective function is multiplied by a different variable than the constraints\n",
    "d=symbols('d')\n",
    "z=symbols('z[0] z[1]')\n",
    "\n",
    "f0=x[0]*x[3]*(x[0]+x[1]+x[2])+x[2]\n",
    "f1=x[0]*x[1]*x[2]*x[3]\n",
    "f2=x[0]**2 + x[1]**2 + x[2]**2 + x[3]**2 # ipopt supports equality constraints\n",
    "g=[f1,f2]\n",
    "m=d*f0 + z[0]*g[0] + z[1]*g[1]\n",
    "\n",
    "grad=[diff(f0,x[var]) for var in range(len(x))]\n",
    "jac_symbols=[[diff(g[con],x[var]) for var in range(len(x))] for con in range(len(z))]\n",
    "hess_symbols=[[diff(diff(m, x[v1]), x[v2]) for v1 in range(len(x))] for v2 in range(len(x))]"
   ]
  },
  {
   "cell_type": "markdown",
   "metadata": {},
   "source": [
    "<a id='p412'></a>\n",
    "### Invoking the solver"
   ]
  },
  {
   "cell_type": "code",
   "execution_count": 10,
   "metadata": {
    "collapsed": false
   },
   "outputs": [
    {
     "name": "stdout",
     "output_type": "stream",
     "text": [
      "Optimal x: [ 1.          4.74299964  3.82114998  1.37940829]\n",
      "Objective value: 17.014017142\n",
      "Bound multipliers z_L: [  1.08787122e+00   2.42877637e-10   3.22241253e-10   2.39607541e-09]\n",
      "Bound multipliers z_U: [  2.27272724e-10   3.53731307e-09   7.71167542e-10   2.51089040e-10]\n",
      "Constraint multipliers: [-0.55229366  0.16146856]\n"
     ]
    }
   ],
   "source": [
    "import pyipopt\n",
    "\n",
    "nvar=len(x)\n",
    "lb=np.array([1]*4, dtype='float64')\n",
    "ub=np.array([5]*4, dtype='float64')\n",
    "ncon=len(g)\n",
    "g_lb=np.array([25.0,40.0])\n",
    "g_ub=np.array([np.inf,40.0])\n",
    "\n",
    "eval_f=lambda x: eval(str(f0))\n",
    "eval_grad_f=lambda x: np.array(eval(str(grad)))\n",
    "eval_g=lambda x: np.array([eval(str(f1)),eval(str(f2))])\n",
    "\n",
    "## ipopt requires passing the hessian and jacobian as a flat vector\n",
    "## the indices of the lower triangular part to which each entry corresponds need to be passed too, these are easy to calculate\n",
    "\n",
    "# structure of the jacobian to output\n",
    "str_jac=list()\n",
    "for v1 in range(ncon):\n",
    "    for v2 in range(nvar):\n",
    "        str_jac.append((v1,v2))\n",
    "str_jac=(np.array(str_jac,dtype='int32').T[0], np.array(str_jac,dtype='int32').T[1])\n",
    "\n",
    "# structure of the hessian to output\n",
    "str_hess=list()\n",
    "for v1 in range(nvar):\n",
    "    for v2 in range(v1+1):\n",
    "        str_hess.append((v1,v2))\n",
    "str_hess=(np.array(str_hess).T[0], np.array(str_hess).T[1])\n",
    "\n",
    "# number of entries on each\n",
    "nnzj=int((len(g))*len(x))\n",
    "nnzh=int(sum([i+1 for i in range(len(x))]))\n",
    "\n",
    "# the jacobian and hessian can be passed with the argument 'flag' (true/false)\n",
    "# when they are passed with a flag, they should output the structure that was calculated above\n",
    "\n",
    "def eval_jac_g(x,flag):\n",
    "    if flag==True:\n",
    "        return str_jac\n",
    "    else:\n",
    "        return np.array(eval(str(jac_symbols)), dtype='float64').reshape((nnzj,1))\n",
    "def eval_h(x,z,d,flag):\n",
    "    if flag==True:\n",
    "        return str_hess\n",
    "    else:\n",
    "        out=list()\n",
    "        for v1 in range(len(x)):\n",
    "            for v2 in range(v1+1):\n",
    "                out.append(eval(str(hess_symbols[v1][v2])))\n",
    "        return np.array(out)\n",
    "\n",
    "# these are the number of non-duplicated non-zero entries in the jacobian and hessian\n",
    "nnzj=(len(g))*len(x)\n",
    "nnzh=sum([i+1 for i in range(len(x))])\n",
    "\n",
    "# suggested starting point\n",
    "x0=np.array([1,5,5,1], dtype='float64')\n",
    "\n",
    "# solver doesn't support keywork argument, thus arguments need to be passed in this exact order\n",
    "opt = pyipopt.create(nvar, lb, ub, ncon, g_lb, g_ub, nnzj, nnzh, eval_f, eval_grad_f, eval_g, eval_jac_g,eval_h,lambda x: True)\n",
    "x_opt, zl, zu, constraint_multipliers, obj, status = opt.solve(x0)\n",
    "\n",
    "print \"Optimal x:\",x_opt\n",
    "print \"Objective value:\",obj\n",
    "print \"Bound multipliers z_L:\", zl\n",
    "print \"Bound multipliers z_U:\", zu\n",
    "print \"Constraint multipliers:\",constraint_multipliers"
   ]
  },
  {
   "cell_type": "markdown",
   "metadata": {},
   "source": [
    "<a id='p42'></a>\n",
    "### Ipopt through CasADi\n",
    "\n",
    "In comparison to all the steps done before to get Ipopt running, passing this problem to it through CasADi is easier, as it does all the work of calculating gradients, jacobians and hessians instead of needing them provided. As such, here SymPy won’t be used (since casadi itself does the same).\n",
    "\n",
    "Getting the library tu run is also a lot easier, as it comes with Ipopt prepackaged. In Windows, the process would look like this:\n",
    "\n",
    "1. Download the [CasADi binaries](https://github.com/casadi/casadi/wiki/InstallationInstructions).\n",
    "2. Unzip it, and add that directory to the Python's path variable - this can be accomplished temporarily within a Python session by executing something like this 'from sys import path;path.append(\"D:\\\\Downloads\\\\casadi-py35-np1.9.1-v3.1.1-64bit\")'.\n",
    "\n",
    "In Linux, it can be installed through [conda forge](https://anaconda.org/conda-forge/casadi) too ('conda install -c conda-forge casadi=3.1.1')."
   ]
  },
  {
   "cell_type": "code",
   "execution_count": 11,
   "metadata": {
    "collapsed": false
   },
   "outputs": [
    {
     "name": "stdout",
     "output_type": "stream",
     "text": [
      "Optimal x: [1, 4.743, 3.82115, 1.37941]\n",
      "Objective value: 17.014\n",
      "Constraint multipliers: [-0.552294, 0.161469]\n"
     ]
    }
   ],
   "source": [
    "from casadi import SX, vertcat, nlpsol\n",
    "import numpy as np\n",
    "\n",
    "# casadi uses symbolic variables just like sympy - this creates an x vector with 4 values\n",
    "x=SX.sym(\"x\",4)\n",
    "\n",
    "f0=x[0]*x[3]*(x[0]+x[1]+x[2])+x[2]\n",
    "f1=x[0]*x[1]*x[2]*x[3]\n",
    "f2=x[0]**2 + x[1]**2 + x[2]**2 + x[3]**2\n",
    "\n",
    "# note that constraints cannot be passed as a list, they need to be converted into a vector\n",
    "g=vertcat(f1,f2)\n",
    "\n",
    "# the problem is created as an object wit the variables, objective and constraints\n",
    "# note that, by default, it prints all the outputs of each iteration, which results in large printout\n",
    "solver = nlpsol(\"solver\", \"ipopt\", {'x':x,'f':f0,'g':g}, {\"print_time\":False,\"ipopt\":{\"print_level\":0}})\n",
    "\n",
    "# same information given before\n",
    "x0=np.array([1,5,5,1], dtype='float64')\n",
    "lb=np.array([1,1,1,1], dtype='float64')\n",
    "ub=np.array([5,5,5,5], dtype='float64')\n",
    "g_lb=np.array([25,40], dtype='float64')\n",
    "g_ub=np.array([np.inf,40], dtype='float64')\n",
    "\n",
    "\n",
    "# invoking the solver with all these parameters\n",
    "res=solver(x0=x0,lbx=lb,ubx=ub,lbg=g_lb,ubg=g_ub)\n",
    "\n",
    "print \"Optimal x:\" , res[\"x\"]\n",
    "print \"Objective value:\" , res[\"f\"]\n",
    "print \"Constraint multipliers:\",res['lam_g']"
   ]
  },
  {
   "cell_type": "markdown",
   "metadata": {},
   "source": [
    "<a id='p5'></a>\n",
    "## 5. Alternative interior-point method (NLopt)\n",
    "** *\n",
    "NLopt can solve problems in a manner similar to the barrier method from ipopt, by using the AUGLAG solver helped by local, less stringent solvers (either gradient-based or derivative free). In this toy example, doing this doesn’t bring any speed benefit, but it can speed things up in some situations:"
   ]
  },
  {
   "cell_type": "code",
   "execution_count": 12,
   "metadata": {
    "collapsed": false
   },
   "outputs": [
    {
     "name": "stdout",
     "output_type": "stream",
     "text": [
      "Optimal x: [ 1.          4.80254926  3.8470158   1.35314458]\n",
      "Objective value: 16.9042724845\n",
      "Result code: 6\n"
     ]
    }
   ],
   "source": [
    "from sympy import symbols, diff\n",
    "import nlopt, numpy as np\n",
    "\n",
    "# Building things in numpy, just like before\n",
    "x=symbols('x[0] x[1] x[2] x[3]')\n",
    "\n",
    "# function to minimize\n",
    "f0=x[0]*x[3]*(x[0]+x[1]+x[2])+x[2]\n",
    "\n",
    "# constraints\n",
    "f1=25.0 - (x[0]*x[1]*x[2]*x[3]) # nlp requires constraints as <=\n",
    "f2=x[0]**2 + x[1]**2 + x[2]**2 + x[3]**2 - 40.0\n",
    "\n",
    "# derivatives of the function and the constraints\n",
    "d_f0_symbols=[diff(f0,x[var]) for var in range(len(x))]\n",
    "d_f1_symbols=[diff(f1,x[var]) for var in range(len(x))]\n",
    "d_f2_symbols=[diff(f2,x[var]) for var in range(len(x))]\n",
    "\n",
    "# function to minimize\n",
    "def f0(x,grad):\n",
    "    if grad.size>0:\n",
    "        grad[:]=np.array(eval(str(d_f0_symbols)), dtype='float64')\n",
    "    return 1.0*x[0]*x[3]*(x[0]+x[1]+x[2])+x[2]\n",
    "\n",
    "def f1(x,grad):\n",
    "    if grad.size>0:\n",
    "        grad[:]=np.array(eval(str(d_f1_symbols)), dtype='float64')\n",
    "    return 25.0 - (x[0]*x[1]*x[2]*x[3])\n",
    "\n",
    "def f2(x,grad):\n",
    "    if grad.size>0:\n",
    "        grad[:]=np.array(eval(str(d_f2_symbols)), dtype='float64')\n",
    "    return x[0]**2 + x[1]**2 + x[2]**2 + x[3]**2 - 40.0\n",
    "\n",
    "# upper and lower bounds for the variables\n",
    "lb=np.array([1]*4, dtype='float64')\n",
    "ub=np.array([5]*4, dtype='float64')\n",
    "\n",
    "# suggested starting point\n",
    "x0=np.array([1,5,5,1], dtype='float64')\n",
    "\n",
    "\n",
    "############  passing it to the solver  ##########\n",
    "\n",
    "# initializing the solver with AUGLAG\n",
    "# it comes in different varieties, the one ussing derivatives has preffix 'LD_'\n",
    "opt = nlopt.opt(nlopt.LD_AUGLAG_EQ,4)\n",
    "\n",
    "# setting the function to minimize\n",
    "opt.set_min_objective(f0)\n",
    "\n",
    "# adding the constraints\n",
    "opt.add_inequality_constraint(f1)\n",
    "opt.add_equality_constraint(f2)\n",
    "\n",
    "# setting the bounds for the variables\n",
    "opt.set_lower_bounds(lb)\n",
    "opt.set_upper_bounds(ub)\n",
    "\n",
    "# passing a local solver to AUGLAG - MMA wouldn't be able to solve this problem alone\n",
    "local_opt=nlopt.opt(nlopt.LD_MMA,4)\n",
    "opt.set_local_optimizer(local_opt)\n",
    "\n",
    "# setting timeouts can help prevent crashes from approximation problems\n",
    "opt.set_maxtime(10)\n",
    "\n",
    "# running the solver\n",
    "x_opt = opt.optimize(x0)\n",
    "minf = opt.last_optimum_value()\n",
    "print \"Optimal x:\", x_opt\n",
    "print \"Objective value:\", minf\n",
    "print \"Result code:\", opt.last_optimize_result()"
   ]
  },
  {
   "cell_type": "markdown",
   "metadata": {},
   "source": [
    "_Note that the solution, while close to the optimums that the other solvers found, is not feasible, but provides a reasonably good approximation._"
   ]
  },
  {
   "cell_type": "markdown",
   "metadata": {},
   "source": [
    "<a id='p6'></a>\n",
    "## 6. Benchmarking some algorithms with a larger problem\n",
    "\n",
    "Now solving problem problem 103 of the [Hock-Schittkowsky test suite](http://apmonitor.com/wiki/index.php/Apps/HockSchittkowski), available [here](http://apmonitor.com/wiki/uploads/Apps/hs103.apm).\n",
    "\n",
    "\n",
    "$$ {min \\:\\: 10\\frac{x_1x_4^2x_7^{0.5}}{x_2x_6^3}+15\\frac{x_3 \n",
    "         x_4}{x_1x_2^2x_5x_7^{0.5}}+20\\frac{x_2x_6}{x_1^2x_4x_5^2}\n",
    "         +25\\frac{x_1^2x_2^2x_5^{0.5}x_7}{x_3x_6^2}}$$\n",
    "\n",
    "\n",
    "\n",
    "$$s.t.$$\n",
    "\n",
    "$$  {  1-0.5\\frac{x_1^{0.5}x_7}{x_3x_6^2}-0.7\\frac{x_1^3x_2x_6x_7^{0.5}}{x_3^2 }\n",
    "         -0.2\\frac{x_3x_6^{\\frac{2}{3}}x_7^{0.25}}{x_2x_4^{0.5}} \\ge 0 }$$\n",
    "\n",
    "$$  {    1-\\frac{1.3x_2x_6}{x_1^{0.5}x_3x_5}-0.8\\frac{x_3x_6^2}{x_4x_5}\n",
    "         -3.1\\frac{x_2^{0.5}x_6^{\\frac{1}{3}}}{x_1x_4^2x_5} \\ge 0 }$$\n",
    "\n",
    "$$  {    1-2\\frac{x_1x_5x_7^{\\frac{1}{3}}}{x_3^1.5x_6}-0.1\\frac{x_2x_5} \n",
    "             {x_3^{0.5}x_6x_7^{0.5}} - \\frac{x_2x_3^{0.5}x_5}{x_1} - \n",
    "         0.65\\frac{x_3x_5x_7}{x_2^2x_6} \\ge 0 }$$\n",
    "\n",
    "$$  {    1  -  0.2\\frac{x_2x_5^{0.5}x_7^{\\frac{1}{3}}}{x_1^2x_4}  -   0.3\\frac{x_1^{0.5}x_2^2 \n",
    "         x_3x_4^{\\frac{1}{3}}x_7^{0.25}}{x_5^{\\frac{2}{3}}}   -   0.4\\frac{x_3x_5x_7^{0.75}}{ \n",
    "         x_1^3x_2^2}   -   0.5\\frac{x_4x_7^{0.5}}{x_3^2} \\ge 0 }$$\n",
    "\n",
    "$$  {    10\\frac{x_1x_4^2x_7^{0.5}}{x_2x_6^3}   +   15\\frac{x_3 \n",
    "         x_4}{x_1x_2^2x_5x_7^{0.5}}   +   20\\frac{x_2x_6}{x_1^2x_4x_5^2} \n",
    "         +   25\\frac{x_1^2x_2^2x_5^{0.5}x_7}{x_3x_6^2} \\ge 100 }$$\n",
    "\n",
    "$$  {    10\\frac{x_1x_4^2x_7^{0.5}}{x_2x_6^3}   +   15\\frac{x_3 \n",
    "         x_4}{x_1x_2^2x_5x_7^{0.5}}   +   20\\frac{x_2x_6}{x_1^2x_4x_5^2} \n",
    "         +   25\\frac{x_1^2x_2^2x_5^{0.5}x_7}{x_3x_6^2} \\le 3000 }$$\n",
    "\n",
    "\n",
    "         \n",
    "$$ { 0.1 \\le x_1,x_2,x_3,x_4,x_5,x_6 \\le 10  } $$\n",
    "$$ { 0.01 \\le x_7 \\le 10  } $$\n",
    "\n",
    "The best-known value is $543.667958$ and the suggested starting point is $x_1,x_2,x_3,x_4,x_5,x_6,x_7=6 $\n",
    "\n",
    "This problem, while still smallish, is more difficult to solve than the previous one and requires more iterations within the solvers. Not all of them can find the optimum for this."
   ]
  },
  {
   "cell_type": "code",
   "execution_count": 13,
   "metadata": {
    "collapsed": false
   },
   "outputs": [],
   "source": [
    "# symbolic math with simpy, just like before\n",
    "from sympy import symbols, diff\n",
    "from scipy.optimize import minimize\n",
    "from cvxopt import solvers, matrix\n",
    "import numpy as np, nlopt, pyipopt\n",
    "\n",
    "# variables\n",
    "x=symbols('x[0] x[1] x[2] x[3] x[4] x[5] x[6]')\n",
    "z=symbols('z[0] z[1] z[2] z[3] z[4] z[5] z[6]')\n",
    "l=symbols('l[0] l[1] l[2] l[3] l[4] l[5]')\n",
    "d=symbols('d')\n",
    "\n",
    "# function to minimize\n",
    "# BE AWARE: in Python2, x^(1/3) is not the same as x^(1.0/3.0)\n",
    "f0 = 10.0*x[0]*x[3]**2*x[6]**.5/(x[1]*x[5]**3)+15.0*x[2] \\\n",
    "     *x[3]/(x[0]*x[1]**2*x[4]*x[6]**0.5)+20.0*x[1]*x[5]/(x[0]**2*x[3]*x[4]**2) \\\n",
    "     +25.0*x[0]**2*x[1]**2*x[4]**0.5*x[6]/(x[2]*x[5]**2)\n",
    "        \n",
    "# non-linear constraints\n",
    "f1 = 1.0-.5*x[0]**0.5*x[6]/(x[2]*x[5]**2)-.7*x[0]**3*x[1]*x[5]*x[6]**.5/x[2]**2 \\\n",
    "     -.2*x[2]*x[5]**(2.0/3.0)*x[6]**.25/(x[1]*x[3]**.5)#>=0\n",
    "\n",
    "f2 = 1.0-1.3*x[1]*x[5]/(x[0]**.5*x[2]*x[4])-.8*x[2]*x[5]**2/(x[3]*x[4]) \\\n",
    "     -3.1*x[1]**.5*x[5]**(1.0/3.0)/(x[0]*x[3]**2*x[4])#>=0\n",
    "\n",
    "f3 = 1.0-2.0*x[0]*x[4]*x[6]**(1.0/3.0)/(x[2]**1.5*x[5])-.1*x[1]*x[4]/ \\\n",
    "     (x[2]**.5*x[5]*x[6]**.5)-1.0*x[1]*x[2]**.5*x[4]/x[0]- \\\n",
    "     .65*x[2]*x[4]*x[6]/(x[1]**2*x[5])#>=0\n",
    "\n",
    "f4 = 1.0-.2*x[1]*x[4]**.5*x[6]**(1.0/3.0)/(x[0]**2*x[3])-.3*x[0]**.5*x[1]**2 \\\n",
    "     *x[2]*x[3]**(1.0/3.0)*x[6]**.25/x[4]**(2.0/3.0)-.4*x[2]*x[4]*x[6]**.75/ \\\n",
    "     (x[0]**3*x[1]**2)-.5*x[3]*x[6]**.5/x[2]**2#>=0\n",
    "\n",
    "f5 = 10.0*x[0]*x[3]**2*x[6]**.5/(x[1]*x[5]**3)+15.0*x[2] \\\n",
    "     *x[3]/(x[0]*x[1]**2*x[4]*x[6]**0.5)+20.0*x[1]*x[5]/(x[0]**2*x[3]*x[4]**2) \\\n",
    "     +25.0*x[0]**2*x[1]**2*x[4]**0.5*x[6]/(x[2]*x[5]**2)#>=100\n",
    "\n",
    "f6 = 10.0*x[0]*x[3]**2*x[6]**.5/(x[1]*x[5]**3)+15.0*x[2] \\\n",
    "     *x[3]/(x[0]*x[1]**2*x[4]*x[6]**0.5)+20.0*x[1]*x[5]/(x[0]**2*x[3]*x[4]**2) \\\n",
    "     +25.0*x[0]**2*x[1]**2*x[4]**0.5*x[6]/(x[2]*x[5]**2)#<=3000\n",
    "        \n",
    "g_ge=[f0,f1,f2,f3,f4,f5,-f6]\n",
    "g_le=[f0,-f1,-f2,-f3,-f4,-f5,f6]\n",
    "g_ipopt=[f0,f1,f2,f3,f4,f5,f6]\n",
    "m_cvxopt=z[0]*g_le[0]+z[1]*g_le[1]+z[2]*g_le[2]+z[3]*g_le[3]+z[4]*g_le[4]+z[5]*g_le[5]+z[6]*g_le[6]\n",
    "m_ipopt=d*f0+l[0]*g_ipopt[1]+l[1]*g_ipopt[2]+l[2]*g_ipopt[3]+l[3]*g_ipopt[4]+l[4]*g_ipopt[5]+l[5]*g_ipopt[6]\n",
    "\n",
    "jac_symbols=[[diff(g_ge[con],x[var]) for var in range(len(x))] for con in range(len(g_ge))]\n",
    "jac_nlopt=[[diff(g_le[conn],x[varr]) for varr in range(len(x))] for conn in range(len(g_le))]\n",
    "jac_ipopt=[[diff(g_ipopt[conn],x[vaarr]) for vaarr in range(len(x))] for coonn in range(len(g_ipopt))]\n",
    "hess_cvxopt=[[diff(diff(m_cvxopt,x[varr1]),x[varr2]) for varr1 in range(len(x))] for varr2 in range(len(x))]\n",
    "hess_ipopt=[[diff(diff(m_ipopt,x[varrr1]),x[varrr2]) for varrr1 in range(len(x))] for varrr2 in range(len(x))]\n",
    "\n",
    "# upper and lower bounds for the variables\n",
    "lb=np.array([0.1]*(len(x)-1)+[0.01],dtype='float64')\n",
    "ub=np.array([10.0]*len(x),dtype='float64')\n",
    "\n",
    "# suggested starting point\n",
    "x0=np.array([6.0]*len(x),dtype='float64')\n",
    "\n",
    "# upper and lower bounds for the constaints\n",
    "c_ge=np.array([np.nan,0,0,0,0,100,-3000],dtype='float64')\n",
    "g_lb=np.array([0,0,0,0,100,-np.inf],dtype='float64')\n",
    "g_ub=np.array([np.inf]*5+[3000],dtype='float64')\n",
    "\n",
    "cons_scipy=[\n",
    "    {'type':'ineq','fun':lambda x: eval(str(g_ge[1]))-c_ge[1],'jac':lambda x: np.array(eval(str(jac_symbols[1])))},\n",
    "    {'type':'ineq','fun':lambda x: eval(str(g_ge[2]))-c_ge[2],'jac':lambda x: np.array(eval(str(jac_symbols[2])))},\n",
    "    {'type':'ineq','fun':lambda x: eval(str(g_ge[3]))-c_ge[3],'jac':lambda x: np.array(eval(str(jac_symbols[3])))},\n",
    "    {'type':'ineq','fun':lambda x: eval(str(g_ge[4]))-c_ge[4],'jac':lambda x: np.array(eval(str(jac_symbols[4])))},\n",
    "    {'type':'ineq','fun':lambda x: eval(str(g_ge[5]))-c_ge[5],'jac':lambda x: np.array(eval(str(jac_symbols[5])))},\n",
    "    {'type':'ineq','fun':lambda x: eval(str(g_ge[6]))-c_ge[6],'jac':lambda x: np.array(eval(str(jac_symbols[6])))}\n",
    "]\n",
    "  \n",
    "cons_ipopt=lambda x: np.array([eval(str(g_ipopt[1])),eval(str(g_ipopt[2])),eval(str(g_ipopt[3]))\n",
    "                               ,eval(str(g_ipopt[4])),eval(str(g_ipopt[5])),eval(str(g_ipopt[6]))],dtype='float64')\n",
    "\n",
    "# constraints for nlopt with in-place gradient modification\n",
    "def f0_nlopt(x,grad):\n",
    "    if grad.size>0:\n",
    "        grad[:]=np.array(eval(str(jac_nlopt[0])), dtype='float64')\n",
    "    return eval(str(g_le[0]))\n",
    "def f1_nlopt(x,grad):\n",
    "    if grad.size>0:\n",
    "        grad[:]=np.array(eval(str(jac_nlopt[1])), dtype='float64')\n",
    "    return eval(str(g_le[1]))+c_ge[1]\n",
    "def f2_nlopt(x,grad):\n",
    "    if grad.size>0:\n",
    "        grad[:]=np.array(eval(str(jac_nlopt[2])), dtype='float64')\n",
    "    return eval(str(g_le[2]))+c_ge[2]\n",
    "def f3_nlopt(x,grad):\n",
    "    if grad.size>0:\n",
    "        grad[:]=np.array(eval(str(jac_nlopt[3])), dtype='float64')\n",
    "    return eval(str(g_le[3]))+c_ge[3]\n",
    "def f4_nlopt(x,grad):\n",
    "    if grad.size>0:\n",
    "        grad[:]=np.array(eval(str(jac_nlopt[4])), dtype='float64')\n",
    "    return eval(str(g_le[4]))+c_ge[4]\n",
    "def f5_nlopt(x,grad):\n",
    "    if grad.size>0:\n",
    "        grad[:]=np.array(eval(str(jac_nlopt[5])), dtype='float64')\n",
    "    return eval(str(g_le[5]))+c_ge[5]\n",
    "def f6_nlopt(x,grad):\n",
    "    if grad.size>0:\n",
    "        grad[:]=np.array(eval(str(jac_nlopt[6])), dtype='float64')\n",
    "    return eval(str(g_le[6]))+c_ge[6]\n",
    "\n",
    "# # formatting other necessary info\n",
    "eval_f=lambda x: eval(str(f0))\n",
    "eval_grad_f=lambda x: np.array(eval(str(jac_symbols[0])))\n",
    "\n",
    "nvar=int(len(x))\n",
    "ncon=int(len(g_ge)-1)\n",
    "\n",
    "str_jac_ipopt=list()\n",
    "for v1 in range(ncon):\n",
    "    for v2 in range(nvar):\n",
    "        str_jac_ipopt.append((v1,v2))\n",
    "str_jac_ipopt=(np.array(str_jac_ipopt,dtype='int32').T[0], np.array(str_jac_ipopt,dtype='int32').T[1])\n",
    "\n",
    "str_hess_ipopt=list()\n",
    "for v1 in range(nvar):\n",
    "    for v2 in range(v1+1):\n",
    "        str_hess_ipopt.append((v1,v2))\n",
    "str_hess_ipopt=(np.array(str_hess_ipopt,dtype='int32').T[0], np.array(str_hess_ipopt,dtype='int32').T[1])\n",
    "\n",
    "nnzj=int((len(g_ge))*len(x))\n",
    "nnzh=int(sum([i+1 for i in range(len(x))]))\n",
    "\n",
    "def eval_jac_ipopt(x,flag):\n",
    "    if flag==True:\n",
    "        return str_jac_ipopt\n",
    "    else:\n",
    "        return np.array(eval(str(jac_ipopt)), dtype='float64').reshape((nnzj,1))\n",
    "def eval_h_ipopt(x,z,d,flag):\n",
    "    if flag==True:\n",
    "        return str_hess_ipopt\n",
    "    else:\n",
    "        out=list()\n",
    "        for v1 in range(len(x)):\n",
    "            for v2 in range(v1+1):\n",
    "                out.append(eval(str(hess_ipopt[v1][v2])))\n",
    "        return np.array(out, dtype='float64')"
   ]
  },
  {
   "cell_type": "code",
   "execution_count": 14,
   "metadata": {
    "collapsed": false
   },
   "outputs": [
    {
     "name": "stdout",
     "output_type": "stream",
     "text": [
      "Optimal x: [ 4.39410417  0.85446875  2.84323017  3.39997898  0.72292614  0.87040643\n",
      "  0.02463883]\n",
      "Objective value: 543.667958466\n",
      "Result code: 4\n"
     ]
    }
   ],
   "source": [
    "# COBYLA under NLopt\n",
    "opt = nlopt.opt(nlopt.LN_COBYLA,7)\n",
    "\n",
    "# setting the function to minimize\n",
    "opt.set_min_objective(f0_nlopt)\n",
    "\n",
    "# adding the constraints\n",
    "opt.add_inequality_constraint(f1_nlopt)\n",
    "opt.add_inequality_constraint(f2_nlopt)\n",
    "opt.add_inequality_constraint(f3_nlopt)\n",
    "opt.add_inequality_constraint(f4_nlopt)\n",
    "opt.add_inequality_constraint(f5_nlopt)\n",
    "opt.add_inequality_constraint(f6_nlopt)\n",
    "\n",
    "# setting the bounds for the variables\n",
    "opt.set_lower_bounds(lb)\n",
    "opt.set_upper_bounds(ub)\n",
    "\n",
    "# setting the numerical tolerance for the objective\n",
    "opt.set_xtol_rel(1e-10)\n",
    "\n",
    "# running the solver\n",
    "x = opt.optimize(x0)\n",
    "print \"Optimal x:\", x\n",
    "print \"Objective value:\", opt.last_optimum_value()\n",
    "print \"Result code:\", opt.last_optimize_result()"
   ]
  },
  {
   "cell_type": "code",
   "execution_count": 15,
   "metadata": {
    "collapsed": false
   },
   "outputs": [
    {
     "name": "stdout",
     "output_type": "stream",
     "text": [
      "1 loop, best of 3: 36 s per loop\n"
     ]
    }
   ],
   "source": [
    "%%timeit\n",
    "opt.optimize(x0)"
   ]
  },
  {
   "cell_type": "code",
   "execution_count": 16,
   "metadata": {
    "collapsed": false
   },
   "outputs": [
    {
     "name": "stdout",
     "output_type": "stream",
     "text": [
      "Optimal x: [ 4.39410332  0.85446887  2.84323014  3.39997727  0.72292638  0.87040641\n",
      "  0.02463884]\n",
      "Objective value: 543.667363053\n",
      "Result code: 4\n"
     ]
    }
   ],
   "source": [
    "# CCSAQ under NLopt\n",
    "opt = nlopt.opt(nlopt.LD_CCSAQ,7)\n",
    "\n",
    "# setting the function to minimize\n",
    "opt.set_min_objective(f0_nlopt)\n",
    "\n",
    "# adding the constraints\n",
    "opt.add_inequality_constraint(f1_nlopt)\n",
    "opt.add_inequality_constraint(f2_nlopt)\n",
    "opt.add_inequality_constraint(f3_nlopt)\n",
    "opt.add_inequality_constraint(f4_nlopt)\n",
    "opt.add_inequality_constraint(f5_nlopt)\n",
    "opt.add_inequality_constraint(f6_nlopt)\n",
    "\n",
    "# setting the bounds for the variables\n",
    "opt.set_lower_bounds(lb)\n",
    "opt.set_upper_bounds(ub)\n",
    "\n",
    "# setting the numerical tolerance for the objective\n",
    "opt.set_xtol_rel(1e-10)\n",
    "\n",
    "# running the solver\n",
    "x = opt.optimize(x0)\n",
    "print \"Optimal x:\", x\n",
    "print \"Objective value:\", opt.last_optimum_value()\n",
    "print \"Result code:\", opt.last_optimize_result()"
   ]
  },
  {
   "cell_type": "code",
   "execution_count": 17,
   "metadata": {
    "collapsed": false
   },
   "outputs": [
    {
     "name": "stdout",
     "output_type": "stream",
     "text": [
      "1 loop, best of 3: 35.3 s per loop\n"
     ]
    }
   ],
   "source": [
    "%%timeit\n",
    "opt.optimize(x0)"
   ]
  },
  {
   "cell_type": "code",
   "execution_count": 18,
   "metadata": {
    "collapsed": false
   },
   "outputs": [
    {
     "data": {
      "text/plain": [
       "     fun: 543.660277163643\n",
       "     jac: array([  -57.07384276, -1089.33427157,   138.87592324,   200.25885006,\n",
       "        -549.76482059,  -495.11913883, -5071.04873243])\n",
       " message: 'Positive directional derivative for linesearch'\n",
       "    nfev: 59\n",
       "     nit: 39\n",
       "    njev: 35\n",
       "  status: 8\n",
       " success: False\n",
       "       x: array([ 4.39408088,  0.854464  ,  2.84325329,  3.39998429,  0.72292814,\n",
       "        0.87041065,  0.02464184])"
      ]
     },
     "execution_count": 18,
     "metadata": {},
     "output_type": "execute_result"
    }
   ],
   "source": [
    "# SLSQP under SciPy\n",
    "minimize(fun=eval_f, jac=eval_grad_f, constraints=cons_scipy, bounds=[(lb[bn],ub[bn]) for bn in range(len(x))],\n",
    "        x0=x0, method='SLSQP')"
   ]
  },
  {
   "cell_type": "code",
   "execution_count": 19,
   "metadata": {
    "collapsed": false
   },
   "outputs": [
    {
     "name": "stdout",
     "output_type": "stream",
     "text": [
      "1 loop, best of 3: 4.95 s per loop\n"
     ]
    }
   ],
   "source": [
    "%%timeit\n",
    "minimize(fun=eval_f, jac=eval_grad_f, constraints=cons_scipy, bounds=[(lb[bn],ub[bn]) for bn in range(len(x))],\n",
    "        x0=x0, method='SLSQP')"
   ]
  },
  {
   "cell_type": "code",
   "execution_count": 20,
   "metadata": {
    "collapsed": false
   },
   "outputs": [
    {
     "name": "stdout",
     "output_type": "stream",
     "text": [
      "     pcost       dcost       gap    pres   dres\n",
      "Couldn't solve problem\n"
     ]
    }
   ],
   "source": [
    "# CP+LDL solver under CVXOPT\n",
    "def F(x=None,z=None):\n",
    "    if x is None: return 6,matrix(x0)\n",
    "    if max(x) >= 10.0: return None,None\n",
    "    if min(x[0:6]) <= 0.1: return None,None\n",
    "    if x[6] <= 0.01: return None,None\n",
    "    \n",
    "    f=matrix(np.array([\n",
    "        eval(str(g_le[0]))+c_le[0],\n",
    "        eval(str(g_le[1]))+c_le[1],\n",
    "        eval(str(g_le[2]))+c_le[2],\n",
    "        eval(str(g_le[3]))+c_le[3],\n",
    "        eval(str(g_le[4]))+c_le[4],\n",
    "        eval(str(g_le[5]))+c_le[5],\n",
    "        eval(str(g_le[6]))+c_le[6]\n",
    "    ],dtype='float64'))\n",
    "    \n",
    "    Df=matrix(np.array(eval(str(jac_nlopt)),dtype='float64'))\n",
    "    if z is None: return f,Df\n",
    "    \n",
    "    # if z is provided, it also needs to output the hessian avaluated at x,z\n",
    "    H=matrix(np.array(eval(str(hess_cvxopt)),dtype='float64'))\n",
    "    return f,Df,H\n",
    "\n",
    "\n",
    "options={'show_progress':True,'kktreg':1e-4,'reltol':1e-10} #setting refinement>=2 makes it loop forever\n",
    "try:\n",
    "    xsol=solvers.cp(F=F, kktsolver='ldl', options=options)\n",
    "except:\n",
    "    print \"Couldn't solve problem\""
   ]
  },
  {
   "cell_type": "code",
   "execution_count": 21,
   "metadata": {
    "collapsed": false
   },
   "outputs": [
    {
     "data": {
      "text/plain": [
       "True"
      ]
     },
     "execution_count": 21,
     "metadata": {},
     "output_type": "execute_result"
    }
   ],
   "source": [
    "# pyipopt crashes when trying to solve this problem\n",
    "\n",
    "# solver doesn't support keywork argument, thus arguments need to be passed in this exact order\n",
    "opt = pyipopt.create(nvar, lb, ub, ncon, g_lb, g_ub, nnzj, nnzh, eval_f, eval_grad_f, cons_ipopt, eval_jac_ipopt,eval_h_ipopt, lambda x: True)\n",
    "opt.num_option('tol', 1e-10)\n",
    "# opt.solve(x0) # --> this would invoke the solver, but it crashes"
   ]
  },
  {
   "cell_type": "code",
   "execution_count": 22,
   "metadata": {
    "collapsed": false
   },
   "outputs": [
    {
     "name": "stdout",
     "output_type": "stream",
     "text": [
      "Optimal x: [4.3941, 0.854469, 2.84323, 3.39998, 0.722926, 0.870406, 0.0246388]\n",
      "Objective value: 543.668\n",
      "Constraint multipliers: [-38.705, -834.115, -1287.32, -86.7667, -4.15984e-11, 7.49225e-12]\n"
     ]
    }
   ],
   "source": [
    "from casadi import SX, vertcat, nlpsol\n",
    "\n",
    "x_casadi=SX.sym(\"x_casadi\",7)\n",
    "\n",
    "f0_casadi = 10.0*x_casadi[0]*x_casadi[3]**2*x_casadi[6]**.5/(x_casadi[1]*x_casadi[5]**3)+15.0*x_casadi[2] \\\n",
    "     *x_casadi[3]/(x_casadi[0]*x_casadi[1]**2*x_casadi[4]*x_casadi[6]**0.5)+20.0*x_casadi[1]*x_casadi[5]/(x_casadi[0]**2*x_casadi[3]*x_casadi[4]**2) \\\n",
    "     +25.0*x_casadi[0]**2*x_casadi[1]**2*x_casadi[4]**0.5*x_casadi[6]/(x_casadi[2]*x_casadi[5]**2)\n",
    "        \n",
    "# non-linear constraints\n",
    "f1_casadi = 1.0-.5*x_casadi[0]**0.5*x_casadi[6]/(x_casadi[2]*x_casadi[5]**2)-.7*x_casadi[0]**3*x_casadi[1]*x_casadi[5]*x_casadi[6]**.5/x_casadi[2]**2 \\\n",
    "     -.2*x_casadi[2]*x_casadi[5]**(2.0/3.0)*x_casadi[6]**.25/(x_casadi[1]*x_casadi[3]**.5)#>=0\n",
    "\n",
    "f2_casadi = 1.0-1.3*x_casadi[1]*x_casadi[5]/(x_casadi[0]**.5*x_casadi[2]*x_casadi[4])-.8*x_casadi[2]*x_casadi[5]**2/(x_casadi[3]*x_casadi[4]) \\\n",
    "     -3.1*x_casadi[1]**.5*x_casadi[5]**(1.0/3.0)/(x_casadi[0]*x_casadi[3]**2*x_casadi[4])#>=0\n",
    "\n",
    "f3_casadi = 1.0-2.0*x_casadi[0]*x_casadi[4]*x_casadi[6]**(1.0/3.0)/(x_casadi[2]**1.5*x_casadi[5])-.1*x_casadi[1]*x_casadi[4]/ \\\n",
    "     (x_casadi[2]**.5*x_casadi[5]*x_casadi[6]**.5)-1.0*x_casadi[1]*x_casadi[2]**.5*x_casadi[4]/x_casadi[0]- \\\n",
    "     .65*x_casadi[2]*x_casadi[4]*x_casadi[6]/(x_casadi[1]**2*x_casadi[5])#>=0\n",
    "\n",
    "f4_casadi = 1.0-.2*x_casadi[1]*x_casadi[4]**.5*x_casadi[6]**(1.0/3.0)/(x_casadi[0]**2*x_casadi[3])-.3*x_casadi[0]**.5*x_casadi[1]**2 \\\n",
    "     *x_casadi[2]*x_casadi[3]**(1.0/3.0)*x_casadi[6]**.25/x_casadi[4]**(2.0/3.0)-.4*x_casadi[2]*x_casadi[4]*x_casadi[6]**.75/ \\\n",
    "     (x_casadi[0]**3*x_casadi[1]**2)-.5*x_casadi[3]*x_casadi[6]**.5/x_casadi[2]**2#>=0\n",
    "\n",
    "f5_casadi = 10.0*x_casadi[0]*x_casadi[3]**2*x_casadi[6]**.5/(x_casadi[1]*x_casadi[5]**3)+15.0*x_casadi[2] \\\n",
    "     *x_casadi[3]/(x_casadi[0]*x_casadi[1]**2*x_casadi[4]*x_casadi[6]**0.5)+20.0*x_casadi[1]*x_casadi[5]/(x_casadi[0]**2*x_casadi[3]*x_casadi[4]**2) \\\n",
    "     +25.0*x_casadi[0]**2*x_casadi[1]**2*x_casadi[4]**0.5*x_casadi[6]/(x_casadi[2]*x_casadi[5]**2)#>=100\n",
    "\n",
    "f6_casadi = 10.0*x_casadi[0]*x_casadi[3]**2*x_casadi[6]**.5/(x_casadi[1]*x_casadi[5]**3)+15.0*x_casadi[2] \\\n",
    "     *x_casadi[3]/(x_casadi[0]*x_casadi[1]**2*x_casadi[4]*x_casadi[6]**0.5)+20.0*x_casadi[1]*x_casadi[5]/(x_casadi[0]**2*x_casadi[3]*x_casadi[4]**2) \\\n",
    "     +25.0*x_casadi[0]**2*x_casadi[1]**2*x_casadi[4]**0.5*x_casadi[6]/(x_casadi[2]*x_casadi[5]**2)#<=3000\n",
    "\n",
    "g_casadi=vertcat(f1_casadi,f2_casadi,f3_casadi,f4_casadi,f5_casadi,f6_casadi)\n",
    "solver = nlpsol(\"solver\", \"ipopt\", {'x':x_casadi,'f':f0_casadi,'g':g_casadi}, {\"print_time\":False,\"ipopt\":{\"print_level\":0}})\n",
    "res=solver(x0=x0,lbx=lb,ubx=ub,lbg=g_lb,ubg=g_ub)\n",
    "\n",
    "print \"Optimal x:\" , res[\"x\"]\n",
    "print \"Objective value:\" , res[\"f\"]\n",
    "print \"Constraint multipliers:\",res['lam_g']"
   ]
  },
  {
   "cell_type": "code",
   "execution_count": 23,
   "metadata": {
    "collapsed": false
   },
   "outputs": [
    {
     "name": "stdout",
     "output_type": "stream",
     "text": [
      "10 loops, best of 3: 63.5 ms per loop\n"
     ]
    }
   ],
   "source": [
    "%%timeit\n",
    "solver(x0=x0,lbx=lb,ubx=ub,lbg=g_lb,ubg=g_ub)"
   ]
  },
  {
   "cell_type": "code",
   "execution_count": 24,
   "metadata": {
    "collapsed": false
   },
   "outputs": [
    {
     "name": "stdout",
     "output_type": "stream",
     "text": [
      "iter      objective    inf_pr    inf_du     ||d|| lg(rg) ls \n",
      "   0   2.208886e+03  3.70e+02  7.37e+02  0.00e+00      -  0 \n",
      "   1   1.718131e+02  3.81e+01  7.26e+02  5.99e+00      -  2 \n",
      "   2   1.777915e+02  1.80e+00  1.84e+03  5.16e+00      -  1 \n",
      "   3   7.070532e+02  2.30e-01  3.95e+03  1.93e+00      -  2 \n",
      "   4   4.724446e+02  1.44e+00  6.00e+02  5.01e+00      -  2 \n",
      "   5   3.154566e+02  9.39e-01  2.33e+02  7.25e-01      -  1 \n",
      "   6   5.295164e+02  3.74e-01  3.30e+04  1.13e+00      -  1 \n",
      "   7   4.593004e+02  1.05e-01  1.20e+04  1.14e+00      -  1 \n",
      "   8   5.041100e+02  2.48e-02  2.43e+03  5.46e-01      -  1 \n",
      "   9   5.377245e+02  5.83e-03  4.72e+02  2.88e-01      -  1 \n",
      "iter      objective    inf_pr    inf_du     ||d|| lg(rg) ls \n",
      "  10   5.435357e+02  9.07e-05  8.75e+00  1.95e-02      -  1 \n",
      "  11   5.436678e+02  1.33e-07  9.37e-03  1.47e-03      -  1 \n",
      "  12   5.436680e+02  6.46e-14  1.57e-09  1.31e-06      -  1 \n",
      "\n",
      "casadi::SQPMethod: Convergence achieved after 12 iterations.\n",
      "CPU times: user 36 ms, sys: 8 ms, total: 44 ms\n",
      "Wall time: 42.3 ms\n"
     ]
    },
    {
     "name": "stderr",
     "output_type": "stream",
     "text": [
      "CasADi warning: \"Indefinite Hessian detected...\" issued  on line 474 of file \"/feedstock_root/build_artefacts/casadi_1493990261301/work/casadi-3.1.1/casadi/solvers/nlpsol/sqpmethod.cpp\". \n",
      "CasADi warning: \"Indefinite Hessian detected...\" issued  on line 474 of file \"/feedstock_root/build_artefacts/casadi_1493990261301/work/casadi-3.1.1/casadi/solvers/nlpsol/sqpmethod.cpp\". \n"
     ]
    }
   ],
   "source": [
    "%%time\n",
    "solver2 = nlpsol(\"solver\", \"sqpmethod\", {'x':x_casadi,'f':f0_casadi,'g':g_casadi},\n",
    "                {\"print_time\":False,'print_header':False,\"qpsol\":\"qpoases\",\"qpsol_options\":{\"printLevel\":None}})\n",
    "solver2(x0=x0,lbx=lb,ubx=ub,lbg=g_lb,ubg=g_ub)"
   ]
  },
  {
   "cell_type": "code",
   "execution_count": 25,
   "metadata": {
    "collapsed": false
   },
   "outputs": [
    {
     "name": "stdout",
     "output_type": "stream",
     "text": [
      "Optimal x: [ 4.36934493  0.85524092  2.82597494  3.40489232  0.71959112  0.86944466\n",
      "  0.02491629]\n",
      "Objective value: 543.741442602\n",
      "Result code: 6\n"
     ]
    }
   ],
   "source": [
    "# NLopt again, using the barrier method with a subsolver for the steps\n",
    "opt = nlopt.opt(nlopt.LD_AUGLAG_EQ,7)\n",
    "opt.set_min_objective(f0_nlopt)\n",
    "opt.add_inequality_constraint(f1_nlopt)\n",
    "opt.add_inequality_constraint(f2_nlopt)\n",
    "opt.add_inequality_constraint(f3_nlopt)\n",
    "opt.add_inequality_constraint(f4_nlopt)\n",
    "opt.add_inequality_constraint(f5_nlopt)\n",
    "opt.add_inequality_constraint(f6_nlopt)\n",
    "opt.set_lower_bounds(lb)\n",
    "opt.set_upper_bounds(ub)\n",
    "\n",
    "opt.set_xtol_rel(1e-8)\n",
    "opt.set_ftol_rel(1e-8)\n",
    "\n",
    "local_opt=nlopt.opt(nlopt.LD_MMA,7)\n",
    "opt.set_local_optimizer(local_opt)\n",
    "\n",
    "# without timeouts, the problem keeps running forever, even though it finds a very close solution quickly\n",
    "opt.set_maxtime(12)\n",
    "local_opt.set_maxtime(3)\n",
    "\n",
    "# running the solver\n",
    "x_opt = opt.optimize(x0)\n",
    "print \"Optimal x:\", x_opt\n",
    "print \"Objective value:\", opt.last_optimum_value()\n",
    "print \"Result code:\", opt.last_optimize_result()"
   ]
  },
  {
   "cell_type": "code",
   "execution_count": 26,
   "metadata": {
    "collapsed": false
   },
   "outputs": [
    {
     "name": "stdout",
     "output_type": "stream",
     "text": [
      "Optimal x: [ 4.37136362  0.85519012  2.83038739  3.41127838  0.72157477  0.8714048\n",
      "  0.0248745 ]\n",
      "Objective value: 543.715566101\n",
      "Result code: 6\n"
     ]
    }
   ],
   "source": [
    "# now CCSAQ sped up by AUGLAG\n",
    "opt = nlopt.opt(nlopt.LD_AUGLAG_EQ,7)\n",
    "opt.set_min_objective(f0_nlopt)\n",
    "opt.add_inequality_constraint(f1_nlopt)\n",
    "opt.add_inequality_constraint(f2_nlopt)\n",
    "opt.add_inequality_constraint(f3_nlopt)\n",
    "opt.add_inequality_constraint(f4_nlopt)\n",
    "opt.add_inequality_constraint(f5_nlopt)\n",
    "opt.add_inequality_constraint(f6_nlopt)\n",
    "opt.set_lower_bounds(lb)\n",
    "opt.set_upper_bounds(ub)\n",
    "\n",
    "opt.set_xtol_rel(1e-10)\n",
    "\n",
    "local_opt=nlopt.opt(nlopt.LD_CCSAQ,7)\n",
    "opt.set_local_optimizer(local_opt)\n",
    "\n",
    "# without timeouts, the problem keeps running forever, even though it finds a very close solution\n",
    "opt.set_maxtime(12)\n",
    "local_opt.set_maxtime(5)\n",
    "\n",
    "# running the solver\n",
    "x_opt = opt.optimize(x0)\n",
    "print \"Optimal x:\", x_opt\n",
    "print \"Objective value:\", opt.last_optimum_value()\n",
    "print \"Result code:\", opt.last_optimize_result()"
   ]
  },
  {
   "cell_type": "code",
   "execution_count": 27,
   "metadata": {
    "collapsed": false
   },
   "outputs": [
    {
     "name": "stdout",
     "output_type": "stream",
     "text": [
      "Optimal x: [ 4.38986518  0.85466028  2.84093624  3.40306186  0.7228384   0.87082528\n",
      "  0.02467284]\n",
      "Objective value: 543.668350561\n",
      "Result code: 6\n"
     ]
    }
   ],
   "source": [
    "# again AUGLAG, this time with the same COBYLA used at the beginning\n",
    "opt = nlopt.opt(nlopt.LD_AUGLAG_EQ,7)\n",
    "opt.set_min_objective(f0_nlopt)\n",
    "opt.add_inequality_constraint(f1_nlopt)\n",
    "opt.add_inequality_constraint(f2_nlopt)\n",
    "opt.add_inequality_constraint(f3_nlopt)\n",
    "opt.add_inequality_constraint(f4_nlopt)\n",
    "opt.add_inequality_constraint(f5_nlopt)\n",
    "opt.add_inequality_constraint(f6_nlopt)\n",
    "opt.set_lower_bounds(lb)\n",
    "opt.set_upper_bounds(ub)\n",
    "\n",
    "opt.set_xtol_rel(1e-10)\n",
    "\n",
    "local_opt=nlopt.opt(nlopt.LN_COBYLA,7)\n",
    "opt.set_local_optimizer(local_opt)\n",
    "\n",
    "# without timeouts, the problem keeps running forever, even though it finds a very close solution\n",
    "opt.set_maxtime(25)\n",
    "# local_opt.set_maxtime(5)\n",
    "\n",
    "# running the solver\n",
    "x_opt = opt.optimize(x0)\n",
    "print \"Optimal x:\", x_opt\n",
    "print \"Objective value:\", opt.last_optimum_value()\n",
    "print \"Result code:\", opt.last_optimize_result()"
   ]
  },
  {
   "cell_type": "markdown",
   "metadata": {},
   "source": [
    "<a id='p61'></a>\n",
    "## Graphical comparison of solvability and time it took"
   ]
  },
  {
   "cell_type": "code",
   "execution_count": 28,
   "metadata": {
    "collapsed": false
   },
   "outputs": [
    {
     "data": {
      "image/png": "[encoded data removed]",
      "text/plain": [
       "<matplotlib.figure.Figure at 0x7f84ca84a650>"
      ]
     },
     "metadata": {},
     "output_type": "display_data"
    }
   ],
   "source": [
    "import matplotlib.pyplot as plt, pandas as pd\n",
    "%matplotlib inline\n",
    "\n",
    "times=pd.DataFrame.from_dict({\"SLSQP (SciPy)\":5,\"COBYLA (NLopt)\":36, \"CCSAQ (NLopt)\":35, \"Ipopt (CasADi)\":0.6,'SLSQP (CasADi)':0.4,\n",
    "                              'AUGLAG+MMA (NLopt)':12,\"AUGLAG+COBYLA (NLopt)\":25,'AUGLAG+CCSAQ (NLopt)':12},orient='index')\n",
    "times=times.rename(columns={0:'time'}).sort_values('time',ascending=False)\n",
    "times.plot(kind='barh',legend=False)\n",
    "_=plt.title(\"Time to solve problem hs103\\n(in seconds)\",size=18)\n",
    "_=plt.xlabel(\"\\nThe following solvers didn't manage to solve the problem:\\n\\n\"+\n",
    "                \"Ipopt through pyipopt\\n\"+\n",
    "              \"CP+LDL (CVXOPT)\\n\\n\"+\n",
    "            \"AUGLAG-helped solvers (NLopt) converged earlier but got stuck near optimum\\n\"+\n",
    "            \"(had to be set timeouts manually)\",size=12)"
   ]
  },
  {
   "cell_type": "markdown",
   "metadata": {},
   "source": [
    "_Note: the comparison between CasADi and the others is not entirely fair, because the other solvers had all the functions and derivatives calculated in sympy objects, which at each evaluation had to be transformed into text and then evaluated, adding some extra overhead._"
   ]
  }
 ],
 "metadata": {
  "anaconda-cloud": {},
  "kernelspec": {
   "display_name": "Python [Root]",
   "language": "python",
   "name": "Python [Root]"
  },
  "language_info": {
   "codemirror_mode": {
    "name": "ipython",
    "version": 3
   },
   "file_extension": ".py",
   "mimetype": "text/x-python",
   "name": "python",
   "nbconvert_exporter": "python",
   "pygments_lexer": "ipython3",
   "version": "3.5.2"
  }
 },
 "nbformat": 4,
 "nbformat_minor": 0
}

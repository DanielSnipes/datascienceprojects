{
 "cells": [
  {
   "cell_type": "code",
   "execution_count": 1,
   "metadata": {
    "collapsed": true
   },
   "outputs": [],
   "source": [
    "from pyspark.mllib.linalg import SparseVector\n",
    "from scipy.io import mmwrite\n",
    "import numpy as np\n",
    "\n",
    "\n",
    "def cos(v1,v2):\n",
    "    return v1.dot(v2)/(np.sqrt(v1.dot(v1))*np.sqrt(v2.dot(v2)))\n",
    "\n",
    "def to_txt(tupl):\n",
    "    return str(tupl).strip('()').replace(' ','')"
   ]
  },
  {
   "cell_type": "code",
   "execution_count": 2,
   "metadata": {
    "collapsed": false
   },
   "outputs": [],
   "source": [
    "a_names=sc.textFile('/vagrant/a.names').map(lambda x: x.split()).map(lambda x: (x[0],(x[1],x[2]))).groupByKey()\n",
    "a_names=a_names.map(lambda x: (SparseVector(5405, [seq[0] for seq in x[1]], [seq[1] for seq in x[1]]),int(x[0])))\n",
    "\n",
    "g_names=sc.textFile('/vagrant/g.names').map(lambda x: x.split()).map(lambda x: (x[0],(x[1],x[2]))).groupByKey()\n",
    "g_names=g_names.map(lambda x: (SparseVector(5405, [seq[0] for seq in x[1]], [seq[1] for seq in x[1]]),int(x[0])))\n",
    "\n",
    "nms=a_names.cartesian(g_names).cache()\n",
    "nms.map(lambda x: (x[0][1], x[1][1], cos(x[0][0],x[1][0]))).map(to_txt).repartition(1).saveAsTextFile('/vagrant/names.sim')"
   ]
  },
  {
   "cell_type": "code",
   "execution_count": 3,
   "metadata": {
    "collapsed": false
   },
   "outputs": [],
   "source": [
    "a_desc=sc.textFile('/vagrant/a.desc').map(lambda x: x.split()).map(lambda x: (x[0],(x[1],x[2]))).groupByKey()\n",
    "a_desc=a_desc.map(lambda x: (SparseVector(17366, [seq[0] for seq in x[1]], [seq[1] for seq in x[1]]),int(x[0])))\n",
    "\n",
    "g_desc=sc.textFile('/vagrant/g.desc').map(lambda x: x.split()).map(lambda x: (x[0],(x[1],x[2]))).groupByKey()\n",
    "g_desc=g_desc.map(lambda x: (SparseVector(17366, [seq[0] for seq in x[1]], [seq[1] for seq in x[1]]),int(x[0])))\n",
    "\n",
    "desc=a_desc.cartesian(g_desc).cache()\n",
    "desc.map(lambda x: (x[0][1], x[1][1], cos(x[0][0],x[1][0]))).map(to_txt).repartition(1).saveAsTextFile('/vagrant/desc.sim')"
   ]
  },
  {
   "cell_type": "code",
   "execution_count": 4,
   "metadata": {
    "collapsed": true
   },
   "outputs": [],
   "source": [
    "a_man2=sc.textFile('/vagrant/a.man2').map(lambda x: x.split()).map(lambda x: (x[0],(x[1],x[2]))).groupByKey()\n",
    "a_man2=a_man2.map(lambda x: (SparseVector(369, [seq[0] for seq in x[1]], [seq[1] for seq in x[1]]),int(x[0])))\n",
    "\n",
    "g_man2=sc.textFile('/vagrant/g.man2').map(lambda x: x.split()).map(lambda x: (x[0],(x[1],x[2]))).groupByKey()\n",
    "g_man2=g_man2.map(lambda x: (SparseVector(369, [seq[0] for seq in x[1]], [seq[1] for seq in x[1]]),int(x[0])))\n",
    "\n",
    "man2=a_man2.cartesian(g_man2).cache()\n",
    "man2.map(lambda x: (x[0][1], x[1][1], cos(x[0][0],x[1][0]))).map(to_txt).repartition(1).saveAsTextFile('/vagrant/man2.sim')"
   ]
  },
  {
   "cell_type": "code",
   "execution_count": 5,
   "metadata": {
    "collapsed": true
   },
   "outputs": [],
   "source": [
    "a_text=sc.textFile('/vagrant/a.text').map(lambda x: x.split()).map(lambda x: (x[0],(x[1],x[2]))).groupByKey()\n",
    "a_text=a_text.map(lambda x: (SparseVector(18827, [seq[0] for seq in x[1]], [seq[1] for seq in x[1]]),int(x[0])))\n",
    "\n",
    "g_text=sc.textFile('/vagrant/g.text').map(lambda x: x.split()).map(lambda x: (x[0],(x[1],x[2]))).groupByKey()\n",
    "g_text=g_text.map(lambda x: (SparseVector(18827, [seq[0] for seq in x[1]], [seq[1] for seq in x[1]]),int(x[0])))\n",
    "\n",
    "text=a_text.cartesian(g_text).cache()\n",
    "text.map(lambda x: (x[0][1], x[1][1], cos(x[0][0],x[1][0]))).map(to_txt).repartition(1).saveAsTextFile('/vagrant/text.sim')"
   ]
  }
 ],
 "metadata": {
  "kernelspec": {
   "display_name": "Python 2",
   "language": "python",
   "name": "python2"
  },
  "language_info": {
   "codemirror_mode": {
    "name": "ipython",
    "version": 2
   },
   "file_extension": ".py",
   "mimetype": "text/x-python",
   "name": "python",
   "nbconvert_exporter": "python",
   "pygments_lexer": "ipython2",
   "version": "2.7.6"
  }
 },
 "nbformat": 4,
 "nbformat_minor": 0
}

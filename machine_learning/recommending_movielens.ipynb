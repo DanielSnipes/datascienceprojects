{
 "cells": [
  {
   "cell_type": "markdown",
   "metadata": {},
   "source": [
    "# **Building a Distributed Recommender System**\n",
    "\n",
    "**This iPython notebook is about building a recommender system using Spark, whose computations can be distributed among an arbitrary number of computers so as to make it scalable to any size of data.**\n",
    "\n",
    "**In this case, I'll be using the small version of the classic [Movielens dataset](http://grouplens.org/datasets/movielens/) with 100,000 ratings, and I'll try different models and compare them by their Root Mean Squared Error (this is the most common metric, and although not the best, it's a good way of trying model parameters in an offline setting, i.e. before doing an actual A/B test of the system in action), dividing the data into sets of training and validation according to the year in which the ratings were made, thus it will be evaluating how accurate are predictions done with data from the past, which is more accurate and representative than a typical random split for cross validation.**\n",
    "\n",
    "**Then, after identifying a promising model, I'll compute it again using a larger version of the dataset with 10M ratings, leaving out the last year of data, and will compute the RMSE again on the data from the year that was left. I'll also make some predictions by creating a fictional user and inputing my personal ratings for some movies.**\n",
    "\n",
    "**Such a model-building process (i.e. deciding by what worked best with the year 1998 only) is not optimal, but since I'm limited by my Desktop computer's processing power, this is the only fast way of building a personalized recommender system with Matrix Factorization, which is so far the best family of collaborative filtering algorithms (e.g. vs. user-user based on cosine distance of rating vectors).**\n",
    "\n",
    "*Note1: in this document, I'll skip the Spark configuration and assume that there is a 'Spark Context' object already created under the name 'sc'.*\n",
    "\n",
    "*Note2: this small file only has data from the years 1997 and 1998.*\n",
    "\n",
    "\n",
    "##**Part 1: Loading the data**"
   ]
  },
  {
   "cell_type": "code",
   "execution_count": 1,
   "metadata": {
    "collapsed": false
   },
   "outputs": [
    {
     "name": "stdout",
     "output_type": "stream",
     "text": [
      "Sample Observation:\n",
      "[Rating(user=6, product=86, rating=3.0)] \n",
      "\n",
      "Number of Observations in the training set:  52899\n",
      "Number of Observations in the validation set:  47101\n"
     ]
    }
   ],
   "source": [
    "import urllib\n",
    "from zipfile import ZipFile\n",
    "import datetime\n",
    "from pyspark.mllib.recommendation import Rating\n",
    "\n",
    "data_file = urllib.URLopener()\n",
    "data_file.retrieve(\"http://files.grouplens.org/datasets/movielens/ml-100k.zip\", \"ml-100k.zip\")\n",
    "data_file = ZipFile('ml-100k.zip')\n",
    "data_file.extractall()\n",
    "\n",
    "def parse_line(line):\n",
    "    \"\"\"This function takes as input a line in the format user id | item id | rating | timestamp and\n",
    "    returns it in converted into a usable format in Spark, keeping only the year form the timestamp\"\"\"\n",
    "    line=line.split()\n",
    "    return Rating(int(line[0]),int(line[1]),int(line[2])),datetime.datetime.fromtimestamp(int(line[3])).year\n",
    "\n",
    "#Here I'm reading the data and repartitioning it into 4 workers, as my computer has a CPU with 4 cores.\n",
    "full_data=sc.textFile(os.getcwd()+'/ml-100k/u.data').repartition(4).map(lambda x: parse_line(x))\n",
    "\n",
    "\n",
    "#Here I'm splitting the data according to their year, and then I'm discarding the year from it, because it's not a\n",
    "#predicting factor in the model. The 'year' here refers to the year in which the user made a rating.\n",
    "train_data=full_data.filter(lambda x: x[1]==1997).map(lambda x: x[0]).cache()\n",
    "val_data=full_data.filter(lambda x: x[1]==1998).map(lambda x: x[0])\n",
    "\n",
    "#Viewing a sample observation:\n",
    "print \"Sample Observation:\"\n",
    "print train_data.take(1),'\\n'\n",
    "print \"Number of Observations in the training set: \",train_data.count()\n",
    "print \"Number of Observations in the validation set: \",val_data.count()"
   ]
  },
  {
   "cell_type": "markdown",
   "metadata": {},
   "source": [
    "*Note: in the dataset, the movies are encoded by their ID, e.g. with a number rather than their name, but later I'll display some names at the moment of inputing ratings and getting predictions.*\n",
    "\n",
    "\n",
    "##**Part 2: Creating and building a grid of models**\n",
    "\n",
    "**In this part, I'll create models based on matrix factorization using alternating least squares and compute their root mean squared error (from now RMSE) on the validation set. I'll try a grid of 24 models using different levels of matrix rank (in other words, latent features in the movie taste space - larger values for this parameter significantly increase computational time, so I'll only try a few low values) and regularization parameters (to avoid overfitting).**"
   ]
  },
  {
   "cell_type": "code",
   "execution_count": 2,
   "metadata": {
    "collapsed": false
   },
   "outputs": [
    {
     "name": "stdout",
     "output_type": "stream",
     "text": [
      "Best Model Parameters:  [40, 0.1]\n",
      "Grid of Errors: \n",
      "[[ 2.94252015  2.18227339  1.95783287  1.99008188]\n",
      " [ 1.4513158   1.43807011  1.40267643  1.35060612]\n",
      " [ 1.06669105  1.05535745  1.05609628  1.05647407]\n",
      " [ 1.14611501  1.14612419  1.14612129  1.14612043]]\n"
     ]
    }
   ],
   "source": [
    "from pyspark.mllib.recommendation import ALS\n",
    "import numpy as np\n",
    "import math\n",
    "\n",
    "def RMSE(predictedRDD, actualRDD):\n",
    "    \"\"\" Compute the root mean squared error between predicted and actual ratings\"\"\"\n",
    "    predictedReformattedRDD = predictedRDD.map(lambda x: ((x[0],x[1]),x[2]))\n",
    "    actualReformattedRDD = actualRDD.map(lambda x: ((x[0],x[1]),x[2]))\n",
    "    squaredErrorsRDD = predictedReformattedRDD.join(actualReformattedRDD).map(lambda x: (x[1][0]-x[1][1])**2)\n",
    "    totalError = squaredErrorsRDD.sum()\n",
    "    numRatings = squaredErrorsRDD.count()\n",
    "    return math.sqrt(totalError*1.0/numRatings)\n",
    "    \n",
    "rank_grid=[20,40,60,100]\n",
    "reg_grid=[0.0001,0.01,0.1,0.5]\n",
    "\n",
    "rnd_seed=100 #This is to make the results reproducible\n",
    "iters=15 #Larger values crash pySpark\n",
    "\n",
    "val_data.cache()\n",
    "val_data_makepreds=val_data.map(lambda x: (x.user,x.product)).cache()\n",
    "\n",
    "#This list will keep track of which is the best model.\n",
    "#It will contain: [RMSE, Matrix Rank, Lambda Regularization Parameter, Model Object]\n",
    "best=[1e10,0,0,None]\n",
    "\n",
    "#This variable will keep track of the RMSE for different models:\n",
    "rmse=np.zeros((4,4))\n",
    "r=-1\n",
    "\n",
    "for rnk in rank_grid:\n",
    "    r+=1\n",
    "    c=-1\n",
    "    for rg in reg_grid:\n",
    "        c+=1\n",
    "        model=ALS.train(train_data,rnk,iterations=iters,lambda_=rg,seed=rnd_seed)\n",
    "        prd=model.predictAll(val_data_makepreds)\n",
    "        rmse_model=RMSE(prd,val_data)\n",
    "        rmse[r,c]=rmse_model\n",
    "        if rmse_model<best[0]:\n",
    "            best[0]=rmse_model\n",
    "            best[1]=rnk\n",
    "            best[2]=rg\n",
    "            best[3]=model\n",
    "\n",
    "print \"Best Model Parameters: \",best[1:3]\n",
    "print \"Grid of Errors: \"\n",
    "print rmse.transpose()"
   ]
  },
  {
   "cell_type": "markdown",
   "metadata": {},
   "source": [
    "**As can be seen, it turns out that a moderate range of parameters gave the best result (in this case, rank=40 and lambda=0.1) and the predictions were off by a bit more than 1 star rating in the best model and by almost 3 stars in the worst model.**\n",
    "\n",
    "\n",
    "##**Part 3: Visualizing the models**\n",
    "\n",
    "**This grid can also be visualized as a heatmap to see in which direction does the RMSE move according to the choice of parameters:**"
   ]
  },
  {
   "cell_type": "code",
   "execution_count": 12,
   "metadata": {
    "collapsed": false
   },
   "outputs": [
    {
     "data": {
      "image/png": "[encoded data removed]",
      "text/plain": [
       "<matplotlib.figure.Figure at 0xb0bbc68c>"
      ]
     },
     "metadata": {},
     "output_type": "display_data"
    }
   ],
   "source": [
    "from matplotlib.colors import LinearSegmentedColormap\n",
    "import matplotlib.pyplot as plt\n",
    "\n",
    "#This function and layout were taken from professor Ameet Talwalkar's lecture exercises on the course CS190.X at Edx Berkeley\n",
    "\n",
    "def preparePlot(xticks, yticks, figsize=(10.5, 6), hideLabels=False, gridColor='#999999',\n",
    "                gridWidth=1.0):\n",
    "    \"\"\"Template for generating the plot layout.\"\"\"\n",
    "    plt.close()\n",
    "    fig, ax = plt.subplots(figsize=figsize, facecolor='white', edgecolor='white')\n",
    "    ax.axes.tick_params(labelcolor='#999999', labelsize='10')\n",
    "    for axis, ticks in [(ax.get_xaxis(), xticks), (ax.get_yaxis(), yticks)]:\n",
    "        axis.set_ticks_position('none')\n",
    "        axis.set_ticks(ticks)\n",
    "        axis.label.set_color('#999999')\n",
    "        if hideLabels: axis.set_ticklabels([])\n",
    "    plt.grid(color=gridColor, linewidth=gridWidth, linestyle='-')\n",
    "    map(lambda position: ax.spines[position].set_visible(False), ['bottom', 'top', 'left', 'right'])\n",
    "    return fig, ax\n",
    "\n",
    "numRows, numCols = len(rank_grid), len(reg_grid)\n",
    "rmse = np.array(rmse.transpose())\n",
    "rmse.shape = (numRows, numCols)\n",
    "\n",
    "fig, ax = preparePlot(np.arange(0, numCols, 1), np.arange(0, numRows, 1), figsize=(8, 7),\n",
    "                      hideLabels=True, gridWidth=0.)\n",
    "ax.set_xticklabels(regParams), ax.set_yticklabels(stepSizes)\n",
    "ax.set_xlabel('Regularization Parameter'), ax.set_ylabel('Matrix Rank')\n",
    "\n",
    "colors = LinearSegmentedColormap.from_list('blue', ['#0022ff', '#000055'], gamma=.2)\n",
    "image = plt.imshow(logLoss,interpolation='nearest', aspect='auto',\n",
    "                    cmap = colors)"
   ]
  },
  {
   "cell_type": "markdown",
   "metadata": {},
   "source": [
    "**Interpretation: as can be seen, this algorithm tended to overfit the data and larger regularization parameters led to better results. Also, the ideal rank (or latent features) seems to be something in between 40 and 100 - larger values tended to do worse and lower values tended to do significantly worse.**\n",
    "\n",
    "\n",
    "##**Part 4: Computing the model with a larger dataset**\n",
    "\n",
    "**Now I'll take the insights gained from this grid search with the small 100k dataset and compute a model with the larger 10M set. Even though the best regularization parameter turned out to be 0.1, I'll now decrease it to 0.05, given that now there is significantly more data and the model won't tend to overfit so much. It would be good to also try different values for the rank (such as 50-60-80), but given the size of this dataset, I'll leave it at only 60 and decrease the number of iterations, as such computations take too much time.**\n",
    "\n",
    "*Note: this larger version is still not the full dataset (which is over 20M ratings), and it would be interesting to analyze the full model but that would require a cluster of computers, which I don't have.**"
   ]
  },
  {
   "cell_type": "code",
   "execution_count": 8,
   "metadata": {
    "collapsed": false
   },
   "outputs": [],
   "source": [
    "data_file = urllib.URLopener()\n",
    "data_file.retrieve(\"http://files.grouplens.org/datasets/movielens/ml-10m.zip\", \"ml-10m.zip\")\n",
    "data_file = ZipFile('ml-10m.zip')\n",
    "data_file.extractall()\n",
    "\n",
    "#This time the format is different so I'll need to rewrite this function, and now the ratings come in .5 increases\n",
    "def parse_line(line):\n",
    "    \"\"\"This function takes as input a line in the format user id::item_id::rating::timestamp and\n",
    "    returns it in converted into a usable format in Spark, keeping only the year form the timestamp\"\"\"\n",
    "    line=line.split('::')\n",
    "    return Rating(int(line[0]),int(line[1]),float(line[2])),datetime.datetime.fromtimestamp(float(line[3])).year\n",
    "\n",
    "full_data=sc.textFile(os.getcwd()+'/ml-10M100K/ratings.dat').repartition(4).map(lambda x: parse_line(x))\n",
    "\n",
    "train_data=full_data.filter(lambda x: x[1]!=2003 and x[1]!=2002).map(lambda x: x[0])\n",
    "test_data=full_data.filter(lambda x: x[1]==2003 or x[1]==2002).map(lambda x: x[0])\n",
    "model=ALS.train(train_data,rank=60,iterations=5,lambda_=0.05,seed=100)"
   ]
  },
  {
   "cell_type": "markdown",
   "metadata": {},
   "source": [
    "##**Part 5: Computing the test-set RMSE**"
   ]
  },
  {
   "cell_type": "code",
   "execution_count": 20,
   "metadata": {
    "collapsed": false
   },
   "outputs": [
    {
     "name": "stdout",
     "output_type": "stream",
     "text": [
      "RMSE is now:  0.917741371815\n"
     ]
    }
   ],
   "source": [
    "prd=model.predictAll(test_data.map(lambda x: (x.user,x.product)))\n",
    "rmse=RMSE(prd,test_data)\n",
    "print 'RMSE is now: ',rmse"
   ]
  },
  {
   "cell_type": "markdown",
   "metadata": {},
   "source": [
    "###Interpretation:\n",
    "\n",
    "The RMSE is in the same units as the ratings itself. Thus, we can conclude that this model made predictions that were off, on average, by around 1 star in a 1-5 scale, which is a better result than with the smaller dataset."
   ]
  },
  {
   "cell_type": "markdown",
   "metadata": {},
   "source": [
    "##**Part 6: Computing summary statistics**\n",
    "\n",
    "**It would also be interesting to see some summary statistics in this dataset. Here I'll compute the 20 highest rated movies (considering only those with more than 100 ratings), and the 20 most frequently rated movies.**"
   ]
  },
  {
   "cell_type": "code",
   "execution_count": 39,
   "metadata": {
    "collapsed": false
   },
   "outputs": [
    {
     "name": "stdout",
     "output_type": "stream",
     "text": [
      "Highest Rated Movies:\n",
      "(u'Shawshank Redemption, The (1994)', 4.457238321660348)\n",
      "(u'Godfather, The (1972)', 4.415085293227011)\n",
      "(u'Usual Suspects, The (1995)', 4.367142322253193)\n",
      "(u\"Schindler's List (1993)\", 4.363482949916592)\n",
      "(u'Sunset Blvd. (a.k.a. Sunset Boulevard) (1950)', 4.321966205837174)\n",
      "(u'Casablanca (1942)', 4.319740945070761)\n",
      "(u'Rear Window (1954)', 4.316543909348442)\n",
      "(u'Double Indemnity (1944)', 4.315439034540158)\n",
      "(u'Seven Samurai (Shichinin no samurai) (1954)', 4.314119283602851)\n",
      "(u'Third Man, The (1949)', 4.313629402756509)\n",
      "(u'Paths of Glory (1957)', 4.306805399325085)\n",
      "(u'Godfather: Part II, The (1974)', 4.303215119343423)\n",
      "(u'Dr. Strangelove or: How I Learned to Stop Worrying and Love the Bomb (1964)', 4.298072023101749)\n",
      "(u'Lives of Others, The (Das Leben der Anderen) (2006)', 4.297154471544715)\n",
      "(u'Dark Knight, The (2008)', 4.294842186297152)\n",
      "(u\"One Flew Over the Cuckoo's Nest (1975)\", 4.292379632836855)\n",
      "(u'Yojimbo (1961)', 4.277613703484938)\n",
      "(u'Wallace & Gromit: The Wrong Trousers (1993)', 4.275907715582451)\n",
      "(u'Wallace & Gromit: A Close Shave (1995)', 4.274952621604548)\n",
      "(u'Big Sleep, The (1946)', 4.267953020134228)\n",
      "\n",
      "\n",
      "Most Rated Movies: \n",
      "(u'Pulp Fiction (1994)', 34864)\n",
      "(u'Forrest Gump (1994)', 34457)\n",
      "(u'Silence of the Lambs, The (1991)', 33668)\n",
      "(u'Jurassic Park (1993)', 32631)\n",
      "(u'Shawshank Redemption, The (1994)', 31126)\n",
      "(u'Braveheart (1995)', 29154)\n",
      "(u'Fugitive, The (1993)', 28951)\n",
      "(u'Terminator 2: Judgment Day (1991)', 28948)\n",
      "(u'Star Wars: Episode IV - A New Hope (a.k.a. Star Wars) (1977)', 28566)\n",
      "(u'Apollo 13 (1995)', 27035)\n",
      "(u'Batman (1989)', 26996)\n",
      "(u'Toy Story (1995)', 26449)\n",
      "(u'Independence Day (a.k.a. ID4) (1996)', 26042)\n",
      "(u'Dances with Wolves (1990)', 25912)\n",
      "(u\"Schindler's List (1993)\", 25777)\n",
      "(u'True Lies (1994)', 25381)\n",
      "(u'Star Wars: Episode VI - Return of the Jedi (1983)', 25098)\n",
      "(u'12 Monkeys (Twelve Monkeys) (1995)', 24397)\n",
      "(u'Usual Suspects, The (1995)', 24037)\n",
      "(u'Fargo (1996)', 23794)\n"
     ]
    }
   ],
   "source": [
    "def parse_movie_line(line):\n",
    "    \"\"\"Parses a line in the movie info data and returns a tuple (MovieID, Title)\"\"\"\n",
    "    line=line.split('::')\n",
    "    return line[0],line[1]\n",
    "\n",
    "movie_names=sc.textFile(os.getcwd()+'/ml-10M100K/movies.dat').repartition(4).map(lambda x: parse_movie_line(x))\n",
    "\n",
    "def counts_and_rating(IDandRatingsTuple):\n",
    "    \"\"\" Calculate average rating\n",
    "    Args:\n",
    "        IDandRatingsTuple: a single tuple of (MovieID, (Rating1, Rating2, Rating3, ...))\n",
    "    Returns:\n",
    "        tuple: a tuple of (MovieID, (number of ratings, averageRating))\n",
    "    \"\"\"\n",
    "    temp=len(IDandRatingsTuple[1])\n",
    "    return (IDandRatingsTuple[0],(temp,sum(IDandRatingsTuple[1])*1.0/temp))\n",
    "   \n",
    "data_stats=full_data.map(lambda x: (x[0].product,x[0].rating)).groupByKey().map(lambda x: counts_and_rating(x))\n",
    "highest_rated=data_stats.filter(lambda x: x[1][0]>100).map(lambda x: (x[0],x[1][1])).takeOrdered(20,lambda x: -x[1])\n",
    "highest_rated=sc.parallelize(highest_rated)\n",
    "highest_rated=highest_rated.join(movie_names).map(lambda x: (x[1][1],x[1][0])).takeOrdered(20,lambda x: -x[1])\n",
    "\n",
    "most_rated=data_stats.map(lambda x: (x[0],x[1][0])).takeOrdered(20,lambda x: -x[1])\n",
    "most_rated=sc.parallelize(most_rated)\n",
    "most_rated=most_rated.join(movie_names).map(lambda x: (x[1][1],x[1][0])).takeOrdered(20,lambda x: -x[1])\n",
    "\n",
    "print \"Highest Rated Movies:\"\n",
    "for line in highest_rated:\n",
    "    print line\n",
    "print '\\n'\n",
    "print \"Most Rated Movies: \"\n",
    "for line in most_rated:\n",
    "    print line"
   ]
  },
  {
   "cell_type": "markdown",
   "metadata": {
    "collapsed": true
   },
   "source": [
    "*Note: the dataset encompasses the ratings from 1997 up to February of 2003, that's why we see mostly movies from the late 1990s.*\n",
    "\n",
    "##**Part 7: Computing predictions for a new user**\n",
    "\n",
    "**In this part, I'll create a new user and rate some movies myself to see which are the top 20 recommended movies for me based on these ratings. First, I'll print a list of the 50 most rated movies and their IDs and then I'll enter my ratings for the movies in that list that I've seen, trying to exclude some overly popular ones so as no let the sysyem make better predictions:**"
   ]
  },
  {
   "cell_type": "code",
   "execution_count": 38,
   "metadata": {
    "collapsed": false
   },
   "outputs": [
    {
     "name": "stdout",
     "output_type": "stream",
     "text": [
      "(u'Ace Ventura: Pet Detective (1994)', u'344')\n",
      "(u'Toy Story (1995)', u'1')\n",
      "(u'Back to the Future (1985)', u'1270')\n",
      "(u'Pulp Fiction (1994)', u'296')\n",
      "(u'True Lies (1994)', u'380')\n",
      "(u'American Beauty (1999)', u'2858')\n",
      "(u'Dances with Wolves (1990)', u'590')\n",
      "(u'Ghost (1990)', u'587')\n",
      "(u'12 Monkeys (Twelve Monkeys) (1995)', u'32')\n",
      "(u'Terminator, The (1984)', u'1240')\n",
      "(u'Raiders of the Lost Ark (Indiana Jones and the Raiders of the Lost Ark) (1981)', u'1198')\n",
      "(u'Seven (a.k.a. Se7en) (1995)', u'47')\n",
      "(u'Sixth Sense, The (1999)', u'2762')\n",
      "(u'Mask, The (1994)', u'367')\n",
      "(u'Mission: Impossible (1996)', u'648')\n",
      "(u'Forrest Gump (1994)', u'356')\n",
      "(u'Die Hard: With a Vengeance (1995)', u'165')\n",
      "(u'Apollo 13 (1995)', u'150')\n",
      "(u'Silence of the Lambs, The (1991)', u'593')\n",
      "(u'Batman Forever (1995)', u'153')\n",
      "(u'Lion King, The (1994)', u'364')\n",
      "(u'Men in Black (1997)', u'1580')\n",
      "(u'Rock, The (1996)', u'733')\n",
      "(u'Star Wars: Episode VI - Return of the Jedi (1983)', u'1210')\n",
      "(u'Batman (1989)', u'592')\n",
      "(u\"Schindler's List (1993)\", u'527')\n",
      "(u'Shawshank Redemption, The (1994)', u'318')\n",
      "(u'E.T. the Extra-Terrestrial (1982)', u'1097')\n",
      "(u'Star Wars: Episode IV - A New Hope (a.k.a. Star Wars) (1977)', u'260')\n",
      "(u'Godfather, The (1972)', u'858')\n",
      "(u'Beauty and the Beast (1991)', u'595')\n",
      "(u'Saving Private Ryan (1998)', u'2028')\n",
      "(u'Independence Day (a.k.a. ID4) (1996)', u'780')\n",
      "(u'Clear and Present Danger (1994)', u'349')\n",
      "(u'Dumb & Dumber (1994)', u'231')\n",
      "(u'Stargate (1994)', u'316')\n",
      "(u'Braveheart (1995)', u'110')\n",
      "(u'Usual Suspects, The (1995)', u'50')\n",
      "(u'Fargo (1996)', u'608')\n",
      "(u'Pretty Woman (1990)', u'597')\n",
      "(u'Speed (1994)', u'377')\n",
      "(u'Aladdin (1992)', u'588')\n",
      "(u'Mrs. Doubtfire (1993)', u'500')\n",
      "(u'Fugitive, The (1993)', u'457')\n",
      "(u'Terminator 2: Judgment Day (1991)', u'589')\n",
      "(u'Star Wars: Episode V - The Empire Strikes Back (1980)', u'1196')\n",
      "(u'Matrix, The (1999)', u'2571')\n",
      "(u'Twister (1996)', u'736')\n",
      "(u'Babe (1995)', u'34')\n",
      "(u'Jurassic Park (1993)', u'480')\n"
     ]
    }
   ],
   "source": [
    "most_rated=data_stats.map(lambda x: (x[0],x[1][0])).takeOrdered(50,lambda x: -x[1])\n",
    "most_rated=sc.parallelize(most_rated)\n",
    "most_rated=most_rated.join(movie_names).map(lambda x: (x[1][1],x[0])).collect()\n",
    "for line in most_rated:\n",
    "    print line"
   ]
  },
  {
   "cell_type": "markdown",
   "metadata": {},
   "source": [
    "*Note: unlike in the previous output, these are now show with their movie ID rather than with the count of ratings and are not ordered.*\n",
    "\n",
    "**Now I'll input my ratings for some of these movies as user 0:**"
   ]
  },
  {
   "cell_type": "code",
   "execution_count": 66,
   "metadata": {
    "collapsed": false
   },
   "outputs": [
    {
     "name": "stdout",
     "output_type": "stream",
     "text": [
      "Top 30 Predicted Movies for me:\n",
      "(u'Love & Sex (2000)', 5.007908621690618)\n",
      "(u'Sacco and Vanzetti (Sacco e Vanzetti) (1971)', 4.612573317410383)\n",
      "(u'Fast Food, Fast Women (2000)', 4.4466806766184375)\n",
      "(u'Baran (2001)', 4.4016901232483265)\n",
      "(u'Forbidden Games (Jeux interdits) (1952)', 4.366745220543698)\n",
      "(u'For the Bible Tells Me So (2007)', 4.293391032114822)\n",
      "(u'Low Life, The (1995)', 4.226921246180655)\n",
      "(u'Passion in the Desert (1998)', 4.205198165390448)\n",
      "(u'Life of Oharu, The (Saikaku ichidai onna) (1952)', 4.173846276253784)\n",
      "(u'Beefcake (1999)', 4.1703938945816486)\n",
      "(u'Barenaked in America (1999)', 4.154299479843564)\n",
      "(u'Saint of Fort Washington, The (1993)', 4.136695689609327)\n",
      "(u'FLCL (2000)', 4.118294303984808)\n",
      "(u'Hail Columbia! (1982)', 4.110041445026499)\n",
      "(u'Shadows of Forgotten Ancestors (1964)', 4.106222317578341)\n",
      "(u'Mindwalk (1990)', 4.105007359653488)\n",
      "(u\"Antonia's Line (Antonia) (1995)\", 4.069697679298748)\n",
      "(u'Eddie Murphy Raw (1987)', 4.053866658103439)\n",
      "(u\"That's The Way I Like It (a.k.a. Forever Fever) (1998)\", 4.022378550990537)\n",
      "(u'Primal Fear (1996)', 4.015550369453031)\n",
      "(u'Bollywood/Hollywood (2002)', 3.997026995999258)\n",
      "(u'Scarlet Diva (2000)', 3.9921290472007667)\n",
      "(u\"Darwin's Nightmare (2004)\", 3.9842718794871734)\n",
      "(u'Mighty, The (1998)', 3.984196425247593)\n",
      "(u'Powder (1995)', 3.982106382405649)\n",
      "(u'Together (Tillsammans) (2000)', 3.971215253498222)\n",
      "(u'Fight Club (1999)', 3.971062097246532)\n",
      "(u'Yossi & Jagger (2002)', 3.9595928165546344)\n",
      "(u'Higher Learning (1995)', 3.957283672305559)\n",
      "(u'Thousand Clowns, A (1965)', 3.923892605066183)\n"
     ]
    }
   ],
   "source": [
    "my_ratings_list=[Rating(0,1270, 3),\n",
    "Rating(0,296, 1),\n",
    "Rating(0,2858, 5),\n",
    "Rating(0,32, 4.5),\n",
    "Rating(0,1240, 4.5),\n",
    "Rating(0,1198, 1),\n",
    "Rating(0,47, 4.5),\n",
    "Rating(0,2762, 4),\n",
    "Rating(0,648, 2.5),\n",
    "Rating(0,367, 2.5),\n",
    "Rating(0,648, 2),\n",
    "Rating(0,356, 5),\n",
    "Rating(0,165, 4),\n",
    "Rating(0,593, 2),\n",
    "Rating(0,153, 1.5),\n",
    "Rating(0,1580, 3.5),\n",
    "Rating(0,527, 2),\n",
    "Rating(0,318, 5),\n",
    "Rating(0,1097,5),\n",
    "Rating(0,260, 4.5),\n",
    "Rating(0,858, 5),\n",
    "Rating(0,2028, 1),\n",
    "Rating(0,780, 3.5),\n",
    "Rating(0,231, 4),\n",
    "Rating(0,316, 3.5),\n",
    "Rating(0,110, 4.5),\n",
    "Rating(0,50, 5),\n",
    "Rating(0,608, 3.5),\n",
    "Rating(0,589, 4.5),\n",
    "Rating(0,2571, 4)]\n",
    "my_ratings=sc.parallelize(my_ratings_list)\n",
    "training_with_mine=train_data.union(my_ratings)\n",
    "model=ALS.train(training_with_mine,rank=60,iterations=5,lambda_=0.05,seed=100)\n",
    "\n",
    "movies_to_predict = full_data.map(lambda x: int(x[0].product)).distinct().filter(lambda x: x not in [rat.product for rat in my_ratings_list]).map(lambda x: (0,x))\n",
    "predicted_for_me = model.predictAll(movies_to_predict).takeOrdered(30,lambda x: -x.rating)\n",
    "predicted_for_me=sc.parallelize(predicted_for_me)\n",
    "predicted_for_me=predicted_for_me.map(lambda x: (str(x.product),x.rating)).join(movie_names).map(lambda x: (x[1][1],x[1][0])).takeOrdered(30, lambda x: -x[1])\n",
    "\n",
    "print \"Top 30 Predicted Movies for me:\"\n",
    "for line in predicted_for_me:\n",
    "    print line"
   ]
  },
  {
   "cell_type": "markdown",
   "metadata": {},
   "source": [
    "**Unfortunately, I cannot comment much from the ouput above because I haven't seen any of those movies, with the exception of 'Fight Club' which I would have rated a 5. However, it wouldn't be appropriate to judge the quality of such recommendations when the system had such few ratings on my part and only for overly popular movies.**"
   ]
  }
 ],
 "metadata": {
  "kernelspec": {
   "display_name": "Python 2",
   "language": "python",
   "name": "python2"
  },
  "language_info": {
   "codemirror_mode": {
    "name": "ipython",
    "version": 2
   },
   "file_extension": ".py",
   "mimetype": "text/x-python",
   "name": "python",
   "nbconvert_exporter": "python",
   "pygments_lexer": "ipython2",
   "version": "2.7.6"
  }
 },
 "nbformat": 4,
 "nbformat_minor": 0
}
